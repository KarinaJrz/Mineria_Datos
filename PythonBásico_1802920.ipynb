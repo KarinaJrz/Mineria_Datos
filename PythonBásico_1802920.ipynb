{
  "nbformat": 4,
  "nbformat_minor": 0,
  "metadata": {
    "colab": {
      "name": "PythonBásico_1802920.ipynb",
      "provenance": [],
      "collapsed_sections": [
        "BNq66dheiaSv",
        "hBjmz-0niaTi",
        "vecTCW6eiaUX",
        "MRaAbDJ6iaUj",
        "I-RckYvViaUw",
        "zcXYpKzHEHjs",
        "tv-SJMBwmHVs",
        "BK3us8G8I6UD",
        "xcxZhJ3PDN5b"
      ]
    },
    "kernelspec": {
      "name": "python3",
      "display_name": "Python 3"
    }
  },
  "cells": [
    {
      "cell_type": "markdown",
      "metadata": {
        "id": "BNq66dheiaSv"
      },
      "source": [
        "### Ejercicio 1. Nombre y matrícula"
      ]
    },
    {
      "cell_type": "markdown",
      "metadata": {
        "id": "bwIm5jpDhWgH"
      },
      "source": [
        "* Realiza una variable con tu matricula y realiza una secuencia de imprimir con tu nombre y tu matricula concatenados."
      ]
    },
    {
      "cell_type": "code",
      "metadata": {
        "id": "MIJeREIdxXTa",
        "outputId": "4fa6dd18-90dd-4fea-9d73-eb6e9a8dd265",
        "colab": {
          "base_uri": "https://localhost:8080/",
          "height": 34
        }
      },
      "source": [
        "n = \"Karina\"\n",
        "m = 1802920\n",
        "datos=\"Mi nombre es %s con matrícula %i \" %(n,m)\n",
        "print(datos)"
      ],
      "execution_count": 36,
      "outputs": [
        {
          "output_type": "stream",
          "text": [
            "Mi nombre es Karina con matrícula 1802920 \n"
          ],
          "name": "stdout"
        }
      ]
    },
    {
      "cell_type": "markdown",
      "metadata": {
        "id": "hBjmz-0niaTi"
      },
      "source": [
        "### Ejercicio 2. Calculadora básica"
      ]
    },
    {
      "cell_type": "markdown",
      "metadata": {
        "id": "83NcGdcIhs-L"
      },
      "source": [
        "* Pidiendo el input del usuario pide dos números y crea una pequeña calculadora con los operadores básicos de suma, resta, multiplicación, división, y potencia."
      ]
    },
    {
      "cell_type": "code",
      "metadata": {
        "id": "z-sXGNUKJq2y",
        "outputId": "239cbe4d-12d8-493b-9567-911fbc7897cb",
        "colab": {
          "base_uri": "https://localhost:8080/",
          "height": 102
        }
      },
      "source": [
        "print(\"CALCULADORA BÁSICA\")\n",
        "o = str(input(\"Operación basica ha realizar: \"))\n",
        "n1 = float(input(\"Introduzca un número: \"))\n",
        "n2 = float(input(\"Introduzca otro número: \"))\n",
        "\n",
        "if o == \"suma\" or o ==\"+\":\n",
        "  suma = n1 + n2\n",
        "  print(\"La suma es: \", suma)\n",
        "elif o == \"resta\" or o == \"-\":\n",
        "  resta = n1 - n2\n",
        "  print(\"La resta es: \", resta)\n",
        "elif o == \"multiplicacion\" or o == \"*\":\n",
        "  mul = n1 * n2\n",
        "  print(\"La multiplicación es: \",mul)\n",
        "elif o == \"division\" or o ==\"/\":\n",
        "  div = n1 / n2\n",
        "  print(\"La división es: \",div)\n",
        "elif o == \"potencia\" or o == \"**\":\n",
        "  pot = n1 ** n2\n",
        "  print(\"La potencia es: \", pot)\n",
        "else:\n",
        "  print(\"ERROR\")"
      ],
      "execution_count": 38,
      "outputs": [
        {
          "output_type": "stream",
          "text": [
            "CALCULADORA BÁSICA\n",
            "Operación basica ha realizar: +\n",
            "Introduzca un número: 2.50\n",
            "Introduzca otro número: 3.75\n",
            "La suma es:  6.25\n"
          ],
          "name": "stdout"
        }
      ]
    },
    {
      "cell_type": "markdown",
      "metadata": {
        "id": "vecTCW6eiaUX"
      },
      "source": [
        "### Ejercicio 3. Múltiplos de 3"
      ]
    },
    {
      "cell_type": "markdown",
      "metadata": {
        "id": "CK6ew29jjZ3d"
      },
      "source": [
        "* Con loop while o for, realiza una lista de 10 numeros multiplos de 3, y después realiza una función de loop que sume todos los números dentro del arreglo."
      ]
    },
    {
      "cell_type": "code",
      "metadata": {
        "id": "pHT-ZflymKiL",
        "outputId": "3e3dddb5-b527-486b-d9bc-f95002867aa7",
        "colab": {
          "base_uri": "https://localhost:8080/",
          "height": 51
        }
      },
      "source": [
        "a = 0\n",
        "suma = 0\n",
        "for i in range(1,31): \n",
        "    if i % 3 == 0:\n",
        "      a = a + 1\n",
        "      suma = i + suma\n",
        "    else:\n",
        "      i =+1\n",
        "x = (\"El arreglo tiene %i números\") %a\n",
        "print(x)\n",
        "y = (\"La suma de los %i números en el arreglo es: %i\") %(a, suma)\n",
        "print(y)"
      ],
      "execution_count": 37,
      "outputs": [
        {
          "output_type": "stream",
          "text": [
            "El arreglo tiene 10 números\n",
            "La suma de los 10 números en el arreglo es: 165\n"
          ],
          "name": "stdout"
        }
      ]
    },
    {
      "cell_type": "markdown",
      "metadata": {
        "id": "MRaAbDJ6iaUj"
      },
      "source": [
        "### Ejercicio 4. Par, impar y primo"
      ]
    },
    {
      "cell_type": "markdown",
      "metadata": {
        "id": "FBQI9ZUXjiA_"
      },
      "source": [
        "- Con una función de if else, revisar si un número es par o es impar."
      ]
    },
    {
      "cell_type": "code",
      "metadata": {
        "id": "4hXuznxmyZry",
        "outputId": "639f92ed-2f72-46df-dbb5-809b45e9669f",
        "colab": {
          "base_uri": "https://localhost:8080/",
          "height": 51
        }
      },
      "source": [
        "num = int(input(\"Ingrese un número: \"))\n",
        "\n",
        "if num % 2 == 0:\n",
        "  par = (\"El número %i es par\") %num\n",
        "  print(par)\n",
        "elif num % 2 != 0:\n",
        "  impar = (\"El número %i es impar\") %num\n",
        "  print(impar)"
      ],
      "execution_count": 41,
      "outputs": [
        {
          "output_type": "stream",
          "text": [
            "Ingrese un número: 250\n",
            "El número 250 es par\n"
          ],
          "name": "stdout"
        }
      ]
    },
    {
      "cell_type": "markdown",
      "metadata": {
        "id": "gcfLS2XGjjf2"
      },
      "source": [
        "- Con una función de if else, revisar si un número es primo o no."
      ]
    },
    {
      "cell_type": "code",
      "metadata": {
        "id": "_Ifou6zk0dwI",
        "outputId": "7440657c-15f0-4c5b-e4f9-d179afa51390",
        "colab": {
          "base_uri": "https://localhost:8080/",
          "height": 51
        }
      },
      "source": [
        "numero = int(input(\"Ingrese un número: \"))\n",
        "\n",
        "contador = 0\n",
        "for i in range (1,numero+1): \n",
        "  if numero % i == 0:\n",
        "    contador = contador + 1\n",
        "    \n",
        "\n",
        "if contador == 2:\n",
        "  primo = (\"El número %i es número primo\") %numero\n",
        "  print(primo)\n",
        "else:\n",
        "  nop = (\"El número %i no es número primo\") %numero\n",
        "  print(nop)"
      ],
      "execution_count": 42,
      "outputs": [
        {
          "output_type": "stream",
          "text": [
            "Ingrese un número: 79\n",
            "El número 79 es número primo\n"
          ],
          "name": "stdout"
        }
      ]
    },
    {
      "cell_type": "markdown",
      "metadata": {
        "id": "I-RckYvViaUw"
      },
      "source": [
        "### Ejercicio 5. Calculadora básica con def"
      ]
    },
    {
      "cell_type": "markdown",
      "metadata": {
        "id": "vBpXYPQYilkQ"
      },
      "source": [
        "* Utilizando diferentes clases en python, crea una calculadora con los operadores  básicos de suma, resta, multiplicación, división, y potencia."
      ]
    },
    {
      "cell_type": "code",
      "metadata": {
        "id": "P0CoyjCyIrYB",
        "outputId": "a5e6cd60-800f-4c1a-c277-bc95ef5d822c",
        "colab": {
          "base_uri": "https://localhost:8080/",
          "height": 102
        }
      },
      "source": [
        "def suma(a,b):\n",
        "  x=a+b\n",
        "  return x\n",
        "\n",
        "def resta(a,b):\n",
        "  x=a-b\n",
        "  return x\n",
        "\n",
        "def multiplicacion(a,b):\n",
        "  x=a*b\n",
        "  return x\n",
        "\n",
        "def division(a,b):\n",
        "  x=a/b\n",
        "  return x\n",
        "\n",
        "def potencia(a,b):\n",
        "  x=a**b\n",
        "  return x\n",
        "\n",
        "print(\"CALCULADORA BÁSICA\")\n",
        "op = str(input(\"Operación basica ha realizar: \"))\n",
        "a = float(input(\"Introduzca un número: \"))\n",
        "b = float(input(\"Introduzca otro número: \"))\n",
        "\n",
        "if op==\"suma\":\n",
        "  print(suma(a,b))\n",
        "elif op==\"resta\":\n",
        "  print(resta(a,b))\n",
        "elif op==\"multiplicacion\":\n",
        "  print(multiplicacion(a,b))\n",
        "elif op==\"division\":\n",
        "  print(division(a,b))\n",
        "elif op==\"potencia\":\n",
        "  print(potencia(a,b))\n",
        "else: \n",
        "  print(\"ERROR\")\n"
      ],
      "execution_count": 40,
      "outputs": [
        {
          "output_type": "stream",
          "text": [
            "CALCULADORA BÁSICA\n",
            "Operación basica ha realizar: suma\n",
            "Introduzca un número: 2.5\n",
            "Introduzca otro número: .75\n",
            "3.25\n"
          ],
          "name": "stdout"
        }
      ]
    },
    {
      "cell_type": "markdown",
      "metadata": {
        "id": "Y18nsUVcDN5S"
      },
      "source": [
        "## Ejercicios con estructuras básicas de python."
      ]
    },
    {
      "cell_type": "markdown",
      "metadata": {
        "id": "zcXYpKzHEHjs"
      },
      "source": [
        "#### Tuplas"
      ]
    },
    {
      "cell_type": "markdown",
      "metadata": {
        "id": "cZd6GHYKkYkQ"
      },
      "source": [
        "- Crear una variable flotante, integer, boleana y compleja e imprimir el tipo de variable que es."
      ]
    },
    {
      "cell_type": "code",
      "metadata": {
        "id": "RZ4bfcqwE0VB",
        "outputId": "ff030a3c-2947-439c-a2a6-c2b179b5ceec",
        "colab": {
          "base_uri": "https://localhost:8080/",
          "height": 34
        }
      },
      "source": [
        "#VARIABLE FLOTANTE\n",
        "f = 0.1809\n",
        "type (f)"
      ],
      "execution_count": null,
      "outputs": [
        {
          "output_type": "execute_result",
          "data": {
            "text/plain": [
              "bool"
            ]
          },
          "metadata": {
            "tags": []
          },
          "execution_count": 91
        }
      ]
    },
    {
      "cell_type": "code",
      "metadata": {
        "id": "p-COrC1iehYS",
        "outputId": "e394bb12-cf39-4209-f4a8-4cb200041e4d",
        "colab": {
          "base_uri": "https://localhost:8080/",
          "height": 34
        }
      },
      "source": [
        "#VARIABLE INTEGER\n",
        "i = 50\n",
        "type (i)"
      ],
      "execution_count": null,
      "outputs": [
        {
          "output_type": "execute_result",
          "data": {
            "text/plain": [
              "int"
            ]
          },
          "metadata": {
            "tags": []
          },
          "execution_count": 92
        }
      ]
    },
    {
      "cell_type": "code",
      "metadata": {
        "id": "D_jiyGyke-WB",
        "outputId": "dfc5e4b7-4a60-4a49-85dc-1a50dd1f14d7",
        "colab": {
          "base_uri": "https://localhost:8080/",
          "height": 34
        }
      },
      "source": [
        "#VARIABLE BOLEANA\n",
        "7 != 7\n",
        "type (False)"
      ],
      "execution_count": null,
      "outputs": [
        {
          "output_type": "execute_result",
          "data": {
            "text/plain": [
              "False"
            ]
          },
          "metadata": {
            "tags": []
          },
          "execution_count": 94
        }
      ]
    },
    {
      "cell_type": "code",
      "metadata": {
        "id": "Hr6PcTdQfG5J",
        "outputId": "9d353391-a159-464b-cc76-d333d5b635d0",
        "colab": {
          "base_uri": "https://localhost:8080/",
          "height": 34
        }
      },
      "source": [
        "#VARIABLE COMPLEJA\n",
        "c = 10 + 7j\n",
        "type (c)"
      ],
      "execution_count": null,
      "outputs": [
        {
          "output_type": "execute_result",
          "data": {
            "text/plain": [
              "complex"
            ]
          },
          "metadata": {
            "tags": []
          },
          "execution_count": 100
        }
      ]
    },
    {
      "cell_type": "markdown",
      "metadata": {
        "id": "voUH0Mi3kcVB"
      },
      "source": [
        "- Crear una tupla con valores enteros, imprimir el primer y ultimo valor."
      ]
    },
    {
      "cell_type": "code",
      "metadata": {
        "id": "XxBjiTc2i1-g",
        "outputId": "a978763b-cc2b-4b0d-c9a9-7f3613ebaf46",
        "colab": {
          "base_uri": "https://localhost:8080/",
          "height": 51
        }
      },
      "source": [
        "tuple = (5, 4, 8, 14, 20, 1, 7, 32, 2, 6)\n",
        "print(\"El primer valor de la tupla es: \",tuple[0])\n",
        "print(\"El último valor de la tupla es: \",tuple[9])"
      ],
      "execution_count": 61,
      "outputs": [
        {
          "output_type": "stream",
          "text": [
            "El primer valor de la tupla es:  5\n",
            "El último valor de la tupla es:  6\n"
          ],
          "name": "stdout"
        }
      ]
    },
    {
      "cell_type": "markdown",
      "metadata": {
        "id": "yve-7bZjke1h"
      },
      "source": [
        "- Añadir 3 valores de string a la tupla."
      ]
    },
    {
      "cell_type": "code",
      "metadata": {
        "id": "BhJWr4wpkx3k",
        "outputId": "8654a8cd-d3ea-4c0b-dd09-9e1cca1ec83f",
        "colab": {
          "base_uri": "https://localhost:8080/",
          "height": 68
        }
      },
      "source": [
        "tuple2 = tuple + (\"aguacate\", \"elote\", \"plátano\")\n",
        "print(tuple2)\n",
        "#print(len(tuple2))\n",
        "print(\"El primer valor de la tupla es: \",tuple2[0])\n",
        "print(\"El último valor de la tupla es: \",tuple2[12])"
      ],
      "execution_count": 68,
      "outputs": [
        {
          "output_type": "stream",
          "text": [
            "(5, 4, 8, 14, 20, 1, 7, 32, 2, 6, 'aguacate', 'elote', 'plátano')\n",
            "El primer valor de la tupla es:  5\n",
            "El último valor de la tupla es:  plátano\n"
          ],
          "name": "stdout"
        }
      ]
    },
    {
      "cell_type": "markdown",
      "metadata": {
        "id": "SEW2kqTykhRm"
      },
      "source": [
        "- Verificar si una variable existe dentro de la tupla."
      ]
    },
    {
      "cell_type": "code",
      "metadata": {
        "id": "vrf5e0EZlFNp",
        "outputId": "e3e0a767-d937-4533-af64-d06383a10189",
        "colab": {
          "base_uri": "https://localhost:8080/",
          "height": 34
        }
      },
      "source": [
        "tuple2\n",
        "#20 in tuple2\n",
        "\"elefante\" in tuple2"
      ],
      "execution_count": 74,
      "outputs": [
        {
          "output_type": "execute_result",
          "data": {
            "text/plain": [
              "False"
            ]
          },
          "metadata": {
            "tags": []
          },
          "execution_count": 74
        }
      ]
    },
    {
      "cell_type": "markdown",
      "metadata": {
        "id": "tv-SJMBwmHVs"
      },
      "source": [
        "#### Listas"
      ]
    },
    {
      "cell_type": "markdown",
      "metadata": {
        "id": "LoeJY2JK15Ai"
      },
      "source": [
        "- Crear una lista con 40 elementos aleatorios enteros."
      ]
    },
    {
      "cell_type": "code",
      "metadata": {
        "id": "0Rj-RIJAmKu6",
        "outputId": "9034d9a7-adb6-4c06-9b12-95992fac4c3f",
        "colab": {
          "base_uri": "https://localhost:8080/",
          "height": 54
        }
      },
      "source": [
        "import random\n",
        "\n",
        "lista = [random.randint(0,1000) for i in range(40)]\n",
        "print(\"Elementos: \",lista)"
      ],
      "execution_count": 131,
      "outputs": [
        {
          "output_type": "stream",
          "text": [
            "Elementos:  [733, 751, 660, 347, 455, 999, 641, 800, 478, 878, 25, 245, 993, 581, 279, 765, 854, 590, 829, 473, 459, 181, 158, 89, 232, 500, 540, 813, 208, 876, 1, 508, 848, 33, 839, 966, 621, 149, 396, 552]\n"
          ],
          "name": "stdout"
        }
      ]
    },
    {
      "cell_type": "markdown",
      "metadata": {
        "id": "juduiOk917eT"
      },
      "source": [
        "- Con una funcion (def) crear dos listas nuevas a partir de la lista creada por numeros aleatorios, en la cual en una esten los elementos pares, y en la otra los elementos impares."
      ]
    },
    {
      "cell_type": "code",
      "metadata": {
        "id": "ravTbPo-d8F8",
        "outputId": "fa46146e-cb09-40ad-d66a-5a0e743e000b",
        "colab": {
          "base_uri": "https://localhost:8080/",
          "height": 71
        }
      },
      "source": [
        "def separacion(lista):\n",
        "  pares = []\n",
        "  impares = []\n",
        "  for i in lista:\n",
        "    if (i % 2 == 0):\n",
        "      pares.append(i)\n",
        "    else:\n",
        "      impares.append(i)\n",
        "  return pares, impares\n",
        "\n",
        "pares, impares = separacion(lista)\n",
        "\n",
        "print(\"Pares: \", pares)\n",
        "print(\"Impares: \", impares)"
      ],
      "execution_count": 132,
      "outputs": [
        {
          "output_type": "stream",
          "text": [
            "Pares:  [660, 800, 478, 878, 854, 590, 158, 232, 500, 540, 208, 876, 508, 848, 966, 396, 552]\n",
            "Impares:  [733, 751, 347, 455, 999, 641, 25, 245, 993, 581, 279, 765, 829, 473, 459, 181, 89, 813, 1, 33, 839, 621, 149]\n"
          ],
          "name": "stdout"
        }
      ]
    },
    {
      "cell_type": "markdown",
      "metadata": {
        "id": "ZOycMbVV191n"
      },
      "source": [
        "- Crear dos variables con la longitud de ambas listas nuevas e imprimir las variables."
      ]
    },
    {
      "cell_type": "code",
      "metadata": {
        "id": "cEHVMWV8mkGd",
        "outputId": "f7f406f6-987b-40ad-a623-28f335ee28b7",
        "colab": {
          "base_uri": "https://localhost:8080/",
          "height": 51
        }
      },
      "source": [
        "longpar = len(pares)\n",
        "longimpares = len(impares)\n",
        "\n",
        "print(\"Longitud de lista pares: \",longpar)\n",
        "print(\"Longitud de lista impares: \",longimpares)"
      ],
      "execution_count": 133,
      "outputs": [
        {
          "output_type": "stream",
          "text": [
            "Longitud de lista pares:  17\n",
            "Longitud de lista impares:  23\n"
          ],
          "name": "stdout"
        }
      ]
    },
    {
      "cell_type": "markdown",
      "metadata": {
        "id": "woxGzuZU2ANb"
      },
      "source": [
        "- Ordenar los elementos de la lista par de mayor a menor, y los de la lista impar de menor a mayor."
      ]
    },
    {
      "cell_type": "code",
      "metadata": {
        "id": "nC2pJFiTmkPx",
        "outputId": "148e3042-5ea7-427a-bb1a-616278b50dc5",
        "colab": {
          "base_uri": "https://localhost:8080/",
          "height": 71
        }
      },
      "source": [
        "print(\"Pares ordenados: \",sorted(pares,reverse = True))\n",
        "print(\"Impares ordenados: \",sorted(impares) )"
      ],
      "execution_count": 134,
      "outputs": [
        {
          "output_type": "stream",
          "text": [
            "Pares ordenados:  [966, 878, 876, 854, 848, 800, 660, 590, 552, 540, 508, 500, 478, 396, 232, 208, 158]\n",
            "Impares ordenados:  [1, 25, 33, 89, 149, 181, 245, 279, 347, 455, 459, 473, 581, 621, 641, 733, 751, 765, 813, 829, 839, 993, 999]\n"
          ],
          "name": "stdout"
        }
      ]
    },
    {
      "cell_type": "markdown",
      "metadata": {
        "id": "OUStW0K82CTi"
      },
      "source": [
        "- Utilizar al menos cuatro de las funciones de listas en python en la lista original de 40 elementos."
      ]
    },
    {
      "cell_type": "code",
      "metadata": {
        "id": "u8v-2aVp8V9n",
        "outputId": "5748a22e-2344-46c7-b179-8e6451368226",
        "colab": {
          "base_uri": "https://localhost:8080/",
          "height": 54
        }
      },
      "source": [
        "#1.Cambiar elemento de la lista\n",
        "lista.insert(2,123)\n",
        "print(lista)"
      ],
      "execution_count": 135,
      "outputs": [
        {
          "output_type": "stream",
          "text": [
            "[733, 751, 123, 660, 347, 455, 999, 641, 800, 478, 878, 25, 245, 993, 581, 279, 765, 854, 590, 829, 473, 459, 181, 158, 89, 232, 500, 540, 813, 208, 876, 1, 508, 848, 33, 839, 966, 621, 149, 396, 552]\n"
          ],
          "name": "stdout"
        }
      ]
    },
    {
      "cell_type": "code",
      "metadata": {
        "id": "VGwCDxEkAAu6",
        "outputId": "d2f02bae-2ff1-431f-b87e-ccd202b719bc",
        "colab": {
          "base_uri": "https://localhost:8080/",
          "height": 34
        }
      },
      "source": [
        "#2.Contar cuántas veces se repite un número en la lista\n",
        "lista.count(500)"
      ],
      "execution_count": 137,
      "outputs": [
        {
          "output_type": "execute_result",
          "data": {
            "text/plain": [
              "1"
            ]
          },
          "metadata": {
            "tags": []
          },
          "execution_count": 137
        }
      ]
    },
    {
      "cell_type": "code",
      "metadata": {
        "id": "5Mwp7JOnBY8X",
        "outputId": "c74ea723-066f-45b5-d391-847dc99b82a8",
        "colab": {
          "base_uri": "https://localhost:8080/",
          "height": 54
        }
      },
      "source": [
        "#3.Imprime los datos de la lista al revés\n",
        "lista.reverse()\n",
        "print(lista)"
      ],
      "execution_count": 145,
      "outputs": [
        {
          "output_type": "stream",
          "text": [
            "[552, 396, 149, 621, 966, 839, 33, 848, 508, 1, 876, 208, 813, 540, 500, 232, 89, 158, 181, 459, 473, 829, 590, 854, 765, 279, 581, 993, 245, 25, 878, 478, 800, 641, 999, 455, 347, 660, 123, 751, 733]\n"
          ],
          "name": "stdout"
        }
      ]
    },
    {
      "cell_type": "code",
      "metadata": {
        "id": "bciLqO6z9JV7",
        "outputId": "4140d57a-b105-4b0f-8fec-3215482604b5",
        "colab": {
          "base_uri": "https://localhost:8080/",
          "height": 34
        }
      },
      "source": [
        "#4.Limpiar la lista\n",
        "lista.clear()\n",
        "print(lista)"
      ],
      "execution_count": 147,
      "outputs": [
        {
          "output_type": "stream",
          "text": [
            "[]\n"
          ],
          "name": "stdout"
        }
      ]
    },
    {
      "cell_type": "markdown",
      "metadata": {
        "id": "BK3us8G8I6UD"
      },
      "source": [
        "#### Diccionarios"
      ]
    },
    {
      "cell_type": "markdown",
      "metadata": {
        "id": "6-LsddJitJmb"
      },
      "source": [
        "- Crear un diccionario de 6 personas que conozcas con su primer nombre y su edad."
      ]
    },
    {
      "cell_type": "code",
      "metadata": {
        "id": "I_ynYLZnI_aO",
        "outputId": "93cd7ed4-f047-4d08-ac9e-03b43dbc71b4",
        "colab": {
          "base_uri": "https://localhost:8080/",
          "height": 34
        }
      },
      "source": [
        "dicc = {\"Gloria\": 20,\"Iker\":8,\"Pilar\":20,\"Debanhi\":25, \"Margarita\":20,\"Kevin\": 19}\n",
        "print(dicc)"
      ],
      "execution_count": 86,
      "outputs": [
        {
          "output_type": "stream",
          "text": [
            "{'Gloria': 20, 'Iker': 8, 'Pilar': 20, 'Debanhi': 25, 'Margarita': 20, 'Kevin': 19}\n"
          ],
          "name": "stdout"
        }
      ]
    },
    {
      "cell_type": "markdown",
      "metadata": {
        "id": "fK4WkqyJtL5b"
      },
      "source": [
        "- Crear una lista con los valores de la edad y reacomodar la lista de menor a mayor valor."
      ]
    },
    {
      "cell_type": "code",
      "metadata": {
        "id": "L6a4poJKtfcE",
        "outputId": "fb94cf4a-715d-4b22-dd71-5ceb431e3676",
        "colab": {
          "base_uri": "https://localhost:8080/",
          "height": 51
        }
      },
      "source": [
        "edad = []\n",
        "\n",
        "for valor in dicc:\n",
        "  edad.append(dicc[valor])\n",
        "\n",
        "print(\"Edades: \", edad)\n",
        "print(\"Edades ordenadas: \", sorted(edad))"
      ],
      "execution_count": 104,
      "outputs": [
        {
          "output_type": "stream",
          "text": [
            "Edades:  [20, 8, 20, 25, 20, 19]\n",
            "Edades ordenadas:  [8, 19, 20, 20, 20, 25]\n"
          ],
          "name": "stdout"
        }
      ]
    },
    {
      "cell_type": "markdown",
      "metadata": {
        "id": "Bs3Um9CJtODU"
      },
      "source": [
        "- Usando el diccionario y un loop, imprimir solo los nombres."
      ]
    },
    {
      "cell_type": "code",
      "metadata": {
        "id": "hYlsFnJ3RwQS",
        "outputId": "2365cbf1-e275-4c38-9c4b-132fbd371959",
        "colab": {
          "base_uri": "https://localhost:8080/",
          "height": 119
        }
      },
      "source": [
        "for key in dicc:\n",
        "  print (key)"
      ],
      "execution_count": 105,
      "outputs": [
        {
          "output_type": "stream",
          "text": [
            "Gloria\n",
            "Iker\n",
            "Pilar\n",
            "Debanhi\n",
            "Margarita\n",
            "Kevin\n"
          ],
          "name": "stdout"
        }
      ]
    },
    {
      "cell_type": "markdown",
      "metadata": {
        "id": "0B0GL8uNtQdv"
      },
      "source": [
        "- Añadir dos personas nuevas a tu diccionario, incluyendo edad."
      ]
    },
    {
      "cell_type": "code",
      "metadata": {
        "id": "tz4rY4F3R-Ck",
        "outputId": "baeeb079-f59c-4022-cef7-9e2242732a38",
        "colab": {
          "base_uri": "https://localhost:8080/",
          "height": 34
        }
      },
      "source": [
        "dicc[\"Evelin\"]=21\n",
        "dicc[\"Hania\"]=20\n",
        "\n",
        "print(dicc)"
      ],
      "execution_count": 107,
      "outputs": [
        {
          "output_type": "stream",
          "text": [
            "{'Gloria': 20, 'Iker': 8, 'Pilar': 20, 'Debanhi': 25, 'Margarita': 20, 'Kevin': 19, 'Evelin': 21, 'Hania': 20}\n"
          ],
          "name": "stdout"
        }
      ]
    },
    {
      "cell_type": "markdown",
      "metadata": {
        "id": "xcxZhJ3PDN5b"
      },
      "source": [
        "#### Sets"
      ]
    },
    {
      "cell_type": "markdown",
      "metadata": {
        "id": "xIX7pRLT1Skr"
      },
      "source": [
        "- Crea un set con 100 numeros aleatorios enteros del 1 al 25."
      ]
    },
    {
      "cell_type": "code",
      "metadata": {
        "id": "vQVjSKQLbBCC",
        "outputId": "299cda9e-ef1f-4b7a-e8f4-22a61e8b61c3",
        "colab": {
          "base_uri": "https://localhost:8080/",
          "height": 34
        }
      },
      "source": [
        "import random\n",
        "\n",
        "set = {random.randint(1,25) for i in range(100)}\n",
        "print(set)\n",
        "#Dado que un set no repite números y se nos pide uno de 100 números aleatorios \n",
        "#en un rango de 1 al 25 solo se van a poder imprimir esos 25 números "
      ],
      "execution_count": 157,
      "outputs": [
        {
          "output_type": "stream",
          "text": [
            "{1, 2, 3, 4, 5, 6, 8, 9, 10, 11, 12, 13, 14, 15, 16, 17, 18, 19, 20, 21, 22, 23, 24, 25}\n"
          ],
          "name": "stdout"
        }
      ]
    },
    {
      "cell_type": "markdown",
      "metadata": {
        "id": "w3PUmay_1aAQ"
      },
      "source": [
        "- Comprueba la longitud de tu set."
      ]
    },
    {
      "cell_type": "code",
      "metadata": {
        "id": "_fz7VO5H1iqI",
        "outputId": "6685b921-0f72-4d09-f69e-ee085ad5d7ab",
        "colab": {
          "base_uri": "https://localhost:8080/",
          "height": 34
        }
      },
      "source": [
        "len(set)"
      ],
      "execution_count": 155,
      "outputs": [
        {
          "output_type": "execute_result",
          "data": {
            "text/plain": [
              "25"
            ]
          },
          "metadata": {
            "tags": []
          },
          "execution_count": 155
        }
      ]
    },
    {
      "cell_type": "markdown",
      "metadata": {
        "id": "IIRgTk6N1cry"
      },
      "source": [
        "- Crea una lista de 5 numeros aleatorios del 1 al 10 y comprueba si cada valor aparece en el set inicial."
      ]
    },
    {
      "cell_type": "code",
      "metadata": {
        "id": "vRS13bf81hEz",
        "outputId": "f390e33e-a2d9-4154-c307-9fd707acbbd1",
        "colab": {
          "base_uri": "https://localhost:8080/",
          "height": 119
        }
      },
      "source": [
        "listaset = [random.randint(1,10) for i in range(5)]\n",
        "print(lista)\n",
        "\n",
        "for i in listaset:\n",
        "  print(i in set)"
      ],
      "execution_count": 156,
      "outputs": [
        {
          "output_type": "stream",
          "text": [
            "[2, 9, 8, 9, 1]\n",
            "True\n",
            "True\n",
            "True\n",
            "True\n",
            "True\n"
          ],
          "name": "stdout"
        }
      ]
    }
  ]
}