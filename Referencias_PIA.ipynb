{
  "nbformat": 4,
  "nbformat_minor": 0,
  "metadata": {
    "colab": {
      "name": "Referencias_PIA.ipynb",
      "provenance": [],
      "collapsed_sections": []
    },
    "kernelspec": {
      "name": "python3",
      "display_name": "Python 3"
    }
  },
  "cells": [
    {
      "cell_type": "markdown",
      "metadata": {
        "id": "TB1t018LAGH-"
      },
      "source": [
        "#Referencias\n",
        "\n",
        "- Base de datos: <br>\n",
        "https://www.kaggle.com/russellyates88/suicide-rates-overview-1985-to-2016\n",
        "$$$$\n",
        "- Limpieza de datos, gráficas y técnica: <br>\n",
        "https://github.com/PilarAbigailMendozaAlvarez/Mineria_de_Datos_Agosto_2020-Enero_2021/blob/master/PIA_002_02.ipynb\n",
        "$$$$\n",
        "- Información sobre Rusia:\n",
        "1. https://es.rbth.com/sociedad/2014/10/14/destapando_el_tabu_del_suicido_44347\n",
        "2. https://www.wradio.com.co/noticias/internacional/por-que-rusia-tiene-una-de-las-tasas-de-suicidios-mas-altas-en-el-mundo/20180708/nota/3771396.aspx\n",
        "3. https://www.infobae.com/2005/09/10/209773-alarma-ola-suicidios-moscu/\n",
        "$$$$\n",
        "- Imágenes utilizadas:\n",
        "1. https://fundacioncontinua.com/rompe-estigma/padres-hablemos-del-suicidio-en-adolescentes/\n",
        "2. https://www.klipartz.com/es/search?q=suicidio"
      ]
    }
  ]
}