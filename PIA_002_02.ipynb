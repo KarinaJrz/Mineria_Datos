{
  "nbformat": 4,
  "nbformat_minor": 0,
  "metadata": {
    "colab": {
      "name": "PIA_002_02.ipynb",
      "provenance": [],
      "collapsed_sections": [
        "xrT_yyyGIinG",
        "5Yc_eclDxPIa"
      ]
    },
    "kernelspec": {
      "display_name": "Python 3",
      "language": "python",
      "name": "python3"
    },
    "language_info": {
      "codemirror_mode": {
        "name": "ipython",
        "version": 3
      },
      "file_extension": ".py",
      "mimetype": "text/x-python",
      "name": "python",
      "nbconvert_exporter": "python",
      "pygments_lexer": "ipython3",
      "version": "3.7.4"
    }
  },
  "cells": [
    {
      "cell_type": "markdown",
      "metadata": {
        "id": "3_qR_Q-5vdhg"
      },
      "source": [
        "# **Avance II. Producto Integrador de Aprendizaje**"
      ]
    },
    {
      "cell_type": "markdown",
      "metadata": {
        "id": "pZLM9_HwQIpo"
      },
      "source": [
        "### Equipo 02 - Grupo 002\n",
        "\n",
        "### Frecuencia: Miércoles 7pm-10pm\n",
        "\n",
        "### Integrantes:\n",
        "##### 1802920\tJuarez Rodríguez Flor Karina \n",
        "##### 1815973\tMendoza Álvarez Pilar Abigail \n",
        "##### 1802473\tOrdaz Ruiz Margarita\n"
      ]
    },
    {
      "cell_type": "markdown",
      "metadata": {
        "id": "lh0C4GU3RhV-"
      },
      "source": [
        "# **“Suicide Rates Overview 1985 to 2016”**"
      ]
    },
    {
      "cell_type": "markdown",
      "metadata": {
        "id": "xrT_yyyGIinG"
      },
      "source": [
        "## Limpieza de Datos"
      ]
    },
    {
      "cell_type": "markdown",
      "metadata": {
        "id": "HvRrLITG-4jd"
      },
      "source": [
        "Lo primero que necesitamos para comenzar a trabajar con la base de datos es importar las librerías que nos ayudarán en el proceso de limpieza de datos y leer nuestra base de datos, nuestro tipo de archivo es un csv *(Coma Separated Value)*, para esto ocupamos el siguiente código:"
      ]
    },
    {
      "cell_type": "code",
      "metadata": {
        "colab": {
          "resources": {
            "http://localhost:8080/nbextensions/google.colab/files.js": {
              "data": "Ly8gQ29weXJpZ2h0IDIwMTcgR29vZ2xlIExMQwovLwovLyBMaWNlbnNlZCB1bmRlciB0aGUgQXBhY2hlIExpY2Vuc2UsIFZlcnNpb24gMi4wICh0aGUgIkxpY2Vuc2UiKTsKLy8geW91IG1heSBub3QgdXNlIHRoaXMgZmlsZSBleGNlcHQgaW4gY29tcGxpYW5jZSB3aXRoIHRoZSBMaWNlbnNlLgovLyBZb3UgbWF5IG9idGFpbiBhIGNvcHkgb2YgdGhlIExpY2Vuc2UgYXQKLy8KLy8gICAgICBodHRwOi8vd3d3LmFwYWNoZS5vcmcvbGljZW5zZXMvTElDRU5TRS0yLjAKLy8KLy8gVW5sZXNzIHJlcXVpcmVkIGJ5IGFwcGxpY2FibGUgbGF3IG9yIGFncmVlZCB0byBpbiB3cml0aW5nLCBzb2Z0d2FyZQovLyBkaXN0cmlidXRlZCB1bmRlciB0aGUgTGljZW5zZSBpcyBkaXN0cmlidXRlZCBvbiBhbiAiQVMgSVMiIEJBU0lTLAovLyBXSVRIT1VUIFdBUlJBTlRJRVMgT1IgQ09ORElUSU9OUyBPRiBBTlkgS0lORCwgZWl0aGVyIGV4cHJlc3Mgb3IgaW1wbGllZC4KLy8gU2VlIHRoZSBMaWNlbnNlIGZvciB0aGUgc3BlY2lmaWMgbGFuZ3VhZ2UgZ292ZXJuaW5nIHBlcm1pc3Npb25zIGFuZAovLyBsaW1pdGF0aW9ucyB1bmRlciB0aGUgTGljZW5zZS4KCi8qKgogKiBAZmlsZW92ZXJ2aWV3IEhlbHBlcnMgZm9yIGdvb2dsZS5jb2xhYiBQeXRob24gbW9kdWxlLgogKi8KKGZ1bmN0aW9uKHNjb3BlKSB7CmZ1bmN0aW9uIHNwYW4odGV4dCwgc3R5bGVBdHRyaWJ1dGVzID0ge30pIHsKICBjb25zdCBlbGVtZW50ID0gZG9jdW1lbnQuY3JlYXRlRWxlbWVudCgnc3BhbicpOwogIGVsZW1lbnQudGV4dENvbnRlbnQgPSB0ZXh0OwogIGZvciAoY29uc3Qga2V5IG9mIE9iamVjdC5rZXlzKHN0eWxlQXR0cmlidXRlcykpIHsKICAgIGVsZW1lbnQuc3R5bGVba2V5XSA9IHN0eWxlQXR0cmlidXRlc1trZXldOwogIH0KICByZXR1cm4gZWxlbWVudDsKfQoKLy8gTWF4IG51bWJlciBvZiBieXRlcyB3aGljaCB3aWxsIGJlIHVwbG9hZGVkIGF0IGEgdGltZS4KY29uc3QgTUFYX1BBWUxPQURfU0laRSA9IDEwMCAqIDEwMjQ7CgpmdW5jdGlvbiBfdXBsb2FkRmlsZXMoaW5wdXRJZCwgb3V0cHV0SWQpIHsKICBjb25zdCBzdGVwcyA9IHVwbG9hZEZpbGVzU3RlcChpbnB1dElkLCBvdXRwdXRJZCk7CiAgY29uc3Qgb3V0cHV0RWxlbWVudCA9IGRvY3VtZW50LmdldEVsZW1lbnRCeUlkKG91dHB1dElkKTsKICAvLyBDYWNoZSBzdGVwcyBvbiB0aGUgb3V0cHV0RWxlbWVudCB0byBtYWtlIGl0IGF2YWlsYWJsZSBmb3IgdGhlIG5leHQgY2FsbAogIC8vIHRvIHVwbG9hZEZpbGVzQ29udGludWUgZnJvbSBQeXRob24uCiAgb3V0cHV0RWxlbWVudC5zdGVwcyA9IHN0ZXBzOwoKICByZXR1cm4gX3VwbG9hZEZpbGVzQ29udGludWUob3V0cHV0SWQpOwp9CgovLyBUaGlzIGlzIHJvdWdobHkgYW4gYXN5bmMgZ2VuZXJhdG9yIChub3Qgc3VwcG9ydGVkIGluIHRoZSBicm93c2VyIHlldCksCi8vIHdoZXJlIHRoZXJlIGFyZSBtdWx0aXBsZSBhc3luY2hyb25vdXMgc3RlcHMgYW5kIHRoZSBQeXRob24gc2lkZSBpcyBnb2luZwovLyB0byBwb2xsIGZvciBjb21wbGV0aW9uIG9mIGVhY2ggc3RlcC4KLy8gVGhpcyB1c2VzIGEgUHJvbWlzZSB0byBibG9jayB0aGUgcHl0aG9uIHNpZGUgb24gY29tcGxldGlvbiBvZiBlYWNoIHN0ZXAsCi8vIHRoZW4gcGFzc2VzIHRoZSByZXN1bHQgb2YgdGhlIHByZXZpb3VzIHN0ZXAgYXMgdGhlIGlucHV0IHRvIHRoZSBuZXh0IHN0ZXAuCmZ1bmN0aW9uIF91cGxvYWRGaWxlc0NvbnRpbnVlKG91dHB1dElkKSB7CiAgY29uc3Qgb3V0cHV0RWxlbWVudCA9IGRvY3VtZW50LmdldEVsZW1lbnRCeUlkKG91dHB1dElkKTsKICBjb25zdCBzdGVwcyA9IG91dHB1dEVsZW1lbnQuc3RlcHM7CgogIGNvbnN0IG5leHQgPSBzdGVwcy5uZXh0KG91dHB1dEVsZW1lbnQubGFzdFByb21pc2VWYWx1ZSk7CiAgcmV0dXJuIFByb21pc2UucmVzb2x2ZShuZXh0LnZhbHVlLnByb21pc2UpLnRoZW4oKHZhbHVlKSA9PiB7CiAgICAvLyBDYWNoZSB0aGUgbGFzdCBwcm9taXNlIHZhbHVlIHRvIG1ha2UgaXQgYXZhaWxhYmxlIHRvIHRoZSBuZXh0CiAgICAvLyBzdGVwIG9mIHRoZSBnZW5lcmF0b3IuCiAgICBvdXRwdXRFbGVtZW50Lmxhc3RQcm9taXNlVmFsdWUgPSB2YWx1ZTsKICAgIHJldHVybiBuZXh0LnZhbHVlLnJlc3BvbnNlOwogIH0pOwp9CgovKioKICogR2VuZXJhdG9yIGZ1bmN0aW9uIHdoaWNoIGlzIGNhbGxlZCBiZXR3ZWVuIGVhY2ggYXN5bmMgc3RlcCBvZiB0aGUgdXBsb2FkCiAqIHByb2Nlc3MuCiAqIEBwYXJhbSB7c3RyaW5nfSBpbnB1dElkIEVsZW1lbnQgSUQgb2YgdGhlIGlucHV0IGZpbGUgcGlja2VyIGVsZW1lbnQuCiAqIEBwYXJhbSB7c3RyaW5nfSBvdXRwdXRJZCBFbGVtZW50IElEIG9mIHRoZSBvdXRwdXQgZGlzcGxheS4KICogQHJldHVybiB7IUl0ZXJhYmxlPCFPYmplY3Q+fSBJdGVyYWJsZSBvZiBuZXh0IHN0ZXBzLgogKi8KZnVuY3Rpb24qIHVwbG9hZEZpbGVzU3RlcChpbnB1dElkLCBvdXRwdXRJZCkgewogIGNvbnN0IGlucHV0RWxlbWVudCA9IGRvY3VtZW50LmdldEVsZW1lbnRCeUlkKGlucHV0SWQpOwogIGlucHV0RWxlbWVudC5kaXNhYmxlZCA9IGZhbHNlOwoKICBjb25zdCBvdXRwdXRFbGVtZW50ID0gZG9jdW1lbnQuZ2V0RWxlbWVudEJ5SWQob3V0cHV0SWQpOwogIG91dHB1dEVsZW1lbnQuaW5uZXJIVE1MID0gJyc7CgogIGNvbnN0IHBpY2tlZFByb21pc2UgPSBuZXcgUHJvbWlzZSgocmVzb2x2ZSkgPT4gewogICAgaW5wdXRFbGVtZW50LmFkZEV2ZW50TGlzdGVuZXIoJ2NoYW5nZScsIChlKSA9PiB7CiAgICAgIHJlc29sdmUoZS50YXJnZXQuZmlsZXMpOwogICAgfSk7CiAgfSk7CgogIGNvbnN0IGNhbmNlbCA9IGRvY3VtZW50LmNyZWF0ZUVsZW1lbnQoJ2J1dHRvbicpOwogIGlucHV0RWxlbWVudC5wYXJlbnRFbGVtZW50LmFwcGVuZENoaWxkKGNhbmNlbCk7CiAgY2FuY2VsLnRleHRDb250ZW50ID0gJ0NhbmNlbCB1cGxvYWQnOwogIGNvbnN0IGNhbmNlbFByb21pc2UgPSBuZXcgUHJvbWlzZSgocmVzb2x2ZSkgPT4gewogICAgY2FuY2VsLm9uY2xpY2sgPSAoKSA9PiB7CiAgICAgIHJlc29sdmUobnVsbCk7CiAgICB9OwogIH0pOwoKICAvLyBXYWl0IGZvciB0aGUgdXNlciB0byBwaWNrIHRoZSBmaWxlcy4KICBjb25zdCBmaWxlcyA9IHlpZWxkIHsKICAgIHByb21pc2U6IFByb21pc2UucmFjZShbcGlja2VkUHJvbWlzZSwgY2FuY2VsUHJvbWlzZV0pLAogICAgcmVzcG9uc2U6IHsKICAgICAgYWN0aW9uOiAnc3RhcnRpbmcnLAogICAgfQogIH07CgogIGNhbmNlbC5yZW1vdmUoKTsKCiAgLy8gRGlzYWJsZSB0aGUgaW5wdXQgZWxlbWVudCBzaW5jZSBmdXJ0aGVyIHBpY2tzIGFyZSBub3QgYWxsb3dlZC4KICBpbnB1dEVsZW1lbnQuZGlzYWJsZWQgPSB0cnVlOwoKICBpZiAoIWZpbGVzKSB7CiAgICByZXR1cm4gewogICAgICByZXNwb25zZTogewogICAgICAgIGFjdGlvbjogJ2NvbXBsZXRlJywKICAgICAgfQogICAgfTsKICB9CgogIGZvciAoY29uc3QgZmlsZSBvZiBmaWxlcykgewogICAgY29uc3QgbGkgPSBkb2N1bWVudC5jcmVhdGVFbGVtZW50KCdsaScpOwogICAgbGkuYXBwZW5kKHNwYW4oZmlsZS5uYW1lLCB7Zm9udFdlaWdodDogJ2JvbGQnfSkpOwogICAgbGkuYXBwZW5kKHNwYW4oCiAgICAgICAgYCgke2ZpbGUudHlwZSB8fCAnbi9hJ30pIC0gJHtmaWxlLnNpemV9IGJ5dGVzLCBgICsKICAgICAgICBgbGFzdCBtb2RpZmllZDogJHsKICAgICAgICAgICAgZmlsZS5sYXN0TW9kaWZpZWREYXRlID8gZmlsZS5sYXN0TW9kaWZpZWREYXRlLnRvTG9jYWxlRGF0ZVN0cmluZygpIDoKICAgICAgICAgICAgICAgICAgICAgICAgICAgICAgICAgICAgJ24vYSd9IC0gYCkpOwogICAgY29uc3QgcGVyY2VudCA9IHNwYW4oJzAlIGRvbmUnKTsKICAgIGxpLmFwcGVuZENoaWxkKHBlcmNlbnQpOwoKICAgIG91dHB1dEVsZW1lbnQuYXBwZW5kQ2hpbGQobGkpOwoKICAgIGNvbnN0IGZpbGVEYXRhUHJvbWlzZSA9IG5ldyBQcm9taXNlKChyZXNvbHZlKSA9PiB7CiAgICAgIGNvbnN0IHJlYWRlciA9IG5ldyBGaWxlUmVhZGVyKCk7CiAgICAgIHJlYWRlci5vbmxvYWQgPSAoZSkgPT4gewogICAgICAgIHJlc29sdmUoZS50YXJnZXQucmVzdWx0KTsKICAgICAgfTsKICAgICAgcmVhZGVyLnJlYWRBc0FycmF5QnVmZmVyKGZpbGUpOwogICAgfSk7CiAgICAvLyBXYWl0IGZvciB0aGUgZGF0YSB0byBiZSByZWFkeS4KICAgIGxldCBmaWxlRGF0YSA9IHlpZWxkIHsKICAgICAgcHJvbWlzZTogZmlsZURhdGFQcm9taXNlLAogICAgICByZXNwb25zZTogewogICAgICAgIGFjdGlvbjogJ2NvbnRpbnVlJywKICAgICAgfQogICAgfTsKCiAgICAvLyBVc2UgYSBjaHVua2VkIHNlbmRpbmcgdG8gYXZvaWQgbWVzc2FnZSBzaXplIGxpbWl0cy4gU2VlIGIvNjIxMTU2NjAuCiAgICBsZXQgcG9zaXRpb24gPSAwOwogICAgd2hpbGUgKHBvc2l0aW9uIDwgZmlsZURhdGEuYnl0ZUxlbmd0aCkgewogICAgICBjb25zdCBsZW5ndGggPSBNYXRoLm1pbihmaWxlRGF0YS5ieXRlTGVuZ3RoIC0gcG9zaXRpb24sIE1BWF9QQVlMT0FEX1NJWkUpOwogICAgICBjb25zdCBjaHVuayA9IG5ldyBVaW50OEFycmF5KGZpbGVEYXRhLCBwb3NpdGlvbiwgbGVuZ3RoKTsKICAgICAgcG9zaXRpb24gKz0gbGVuZ3RoOwoKICAgICAgY29uc3QgYmFzZTY0ID0gYnRvYShTdHJpbmcuZnJvbUNoYXJDb2RlLmFwcGx5KG51bGwsIGNodW5rKSk7CiAgICAgIHlpZWxkIHsKICAgICAgICByZXNwb25zZTogewogICAgICAgICAgYWN0aW9uOiAnYXBwZW5kJywKICAgICAgICAgIGZpbGU6IGZpbGUubmFtZSwKICAgICAgICAgIGRhdGE6IGJhc2U2NCwKICAgICAgICB9LAogICAgICB9OwogICAgICBwZXJjZW50LnRleHRDb250ZW50ID0KICAgICAgICAgIGAke01hdGgucm91bmQoKHBvc2l0aW9uIC8gZmlsZURhdGEuYnl0ZUxlbmd0aCkgKiAxMDApfSUgZG9uZWA7CiAgICB9CiAgfQoKICAvLyBBbGwgZG9uZS4KICB5aWVsZCB7CiAgICByZXNwb25zZTogewogICAgICBhY3Rpb246ICdjb21wbGV0ZScsCiAgICB9CiAgfTsKfQoKc2NvcGUuZ29vZ2xlID0gc2NvcGUuZ29vZ2xlIHx8IHt9OwpzY29wZS5nb29nbGUuY29sYWIgPSBzY29wZS5nb29nbGUuY29sYWIgfHwge307CnNjb3BlLmdvb2dsZS5jb2xhYi5fZmlsZXMgPSB7CiAgX3VwbG9hZEZpbGVzLAogIF91cGxvYWRGaWxlc0NvbnRpbnVlLAp9Owp9KShzZWxmKTsK",
              "ok": true,
              "headers": [
                [
                  "content-type",
                  "application/javascript"
                ]
              ],
              "status": 200,
              "status_text": ""
            }
          },
          "base_uri": "https://localhost:8080/",
          "height": 72
        },
        "id": "_lQhUju-9KjW",
        "outputId": "41068024-aeb6-498a-8133-d29aa899ba9a"
      },
      "source": [
        "import pandas as pd\n",
        "import numpy as np\n",
        "\n",
        "from google.colab import files\n",
        "files.upload()\n",
        "datos = pd.read_csv(\"SUICIDIOS.csv\")"
      ],
      "execution_count": 4,
      "outputs": [
        {
          "output_type": "display_data",
          "data": {
            "text/html": [
              "\n",
              "     <input type=\"file\" id=\"files-a1dcdf6f-2a9c-47d5-99c9-74349ea1d970\" name=\"files[]\" multiple disabled\n",
              "        style=\"border:none\" />\n",
              "     <output id=\"result-a1dcdf6f-2a9c-47d5-99c9-74349ea1d970\">\n",
              "      Upload widget is only available when the cell has been executed in the\n",
              "      current browser session. Please rerun this cell to enable.\n",
              "      </output>\n",
              "      <script src=\"/nbextensions/google.colab/files.js\"></script> "
            ],
            "text/plain": [
              "<IPython.core.display.HTML object>"
            ]
          },
          "metadata": {
            "tags": []
          }
        },
        {
          "output_type": "stream",
          "text": [
            "Saving SUICIDIOS.csv to SUICIDIOS (1).csv\n"
          ],
          "name": "stdout"
        }
      ]
    },
    {
      "cell_type": "markdown",
      "metadata": {
        "id": "rFX3-Grj_PnH"
      },
      "source": [
        "A continuación se muestran los primeros 5 renglones de nuestra base de datos sin manipulación."
      ]
    },
    {
      "cell_type": "code",
      "metadata": {
        "colab": {
          "base_uri": "https://localhost:8080/",
          "height": 411
        },
        "id": "Uh4SsXDYIinL",
        "outputId": "557e29d6-6306-4338-a2b9-8e26fb5678b3"
      },
      "source": [
        "datos.head()"
      ],
      "execution_count": 5,
      "outputs": [
        {
          "output_type": "execute_result",
          "data": {
            "text/html": [
              "<div>\n",
              "<style scoped>\n",
              "    .dataframe tbody tr th:only-of-type {\n",
              "        vertical-align: middle;\n",
              "    }\n",
              "\n",
              "    .dataframe tbody tr th {\n",
              "        vertical-align: top;\n",
              "    }\n",
              "\n",
              "    .dataframe thead th {\n",
              "        text-align: right;\n",
              "    }\n",
              "</style>\n",
              "<table border=\"1\" class=\"dataframe\">\n",
              "  <thead>\n",
              "    <tr style=\"text-align: right;\">\n",
              "      <th></th>\n",
              "      <th>country</th>\n",
              "      <th>year</th>\n",
              "      <th>sex</th>\n",
              "      <th>age</th>\n",
              "      <th>suicides_no</th>\n",
              "      <th>population</th>\n",
              "      <th>suicides/100k pop</th>\n",
              "      <th>country-year</th>\n",
              "      <th>HDI for year</th>\n",
              "      <th>gdp_for_year ($)</th>\n",
              "      <th>gdp_per_capita ($)</th>\n",
              "      <th>generation</th>\n",
              "    </tr>\n",
              "  </thead>\n",
              "  <tbody>\n",
              "    <tr>\n",
              "      <th>0</th>\n",
              "      <td>Albania</td>\n",
              "      <td>1987</td>\n",
              "      <td>male</td>\n",
              "      <td>15-24 years</td>\n",
              "      <td>21</td>\n",
              "      <td>312900</td>\n",
              "      <td>6.71</td>\n",
              "      <td>Albania1987</td>\n",
              "      <td>NaN</td>\n",
              "      <td>2,156,624,900</td>\n",
              "      <td>796</td>\n",
              "      <td>Generation X</td>\n",
              "    </tr>\n",
              "    <tr>\n",
              "      <th>1</th>\n",
              "      <td>Albania</td>\n",
              "      <td>1987</td>\n",
              "      <td>male</td>\n",
              "      <td>35-54 years</td>\n",
              "      <td>16</td>\n",
              "      <td>308000</td>\n",
              "      <td>5.19</td>\n",
              "      <td>Albania1987</td>\n",
              "      <td>NaN</td>\n",
              "      <td>2,156,624,900</td>\n",
              "      <td>796</td>\n",
              "      <td>Silent</td>\n",
              "    </tr>\n",
              "    <tr>\n",
              "      <th>2</th>\n",
              "      <td>Albania</td>\n",
              "      <td>1987</td>\n",
              "      <td>female</td>\n",
              "      <td>15-24 years</td>\n",
              "      <td>14</td>\n",
              "      <td>289700</td>\n",
              "      <td>4.83</td>\n",
              "      <td>Albania1987</td>\n",
              "      <td>NaN</td>\n",
              "      <td>2,156,624,900</td>\n",
              "      <td>796</td>\n",
              "      <td>Generation X</td>\n",
              "    </tr>\n",
              "    <tr>\n",
              "      <th>3</th>\n",
              "      <td>Albania</td>\n",
              "      <td>1987</td>\n",
              "      <td>male</td>\n",
              "      <td>75+ years</td>\n",
              "      <td>1</td>\n",
              "      <td>21800</td>\n",
              "      <td>4.59</td>\n",
              "      <td>Albania1987</td>\n",
              "      <td>NaN</td>\n",
              "      <td>2,156,624,900</td>\n",
              "      <td>796</td>\n",
              "      <td>G.I. Generation</td>\n",
              "    </tr>\n",
              "    <tr>\n",
              "      <th>4</th>\n",
              "      <td>Albania</td>\n",
              "      <td>1987</td>\n",
              "      <td>male</td>\n",
              "      <td>25-34 years</td>\n",
              "      <td>9</td>\n",
              "      <td>274300</td>\n",
              "      <td>3.28</td>\n",
              "      <td>Albania1987</td>\n",
              "      <td>NaN</td>\n",
              "      <td>2,156,624,900</td>\n",
              "      <td>796</td>\n",
              "      <td>Boomers</td>\n",
              "    </tr>\n",
              "  </tbody>\n",
              "</table>\n",
              "</div>"
            ],
            "text/plain": [
              "   country  year  ... gdp_per_capita ($)       generation\n",
              "0  Albania  1987  ...                796     Generation X\n",
              "1  Albania  1987  ...                796           Silent\n",
              "2  Albania  1987  ...                796     Generation X\n",
              "3  Albania  1987  ...                796  G.I. Generation\n",
              "4  Albania  1987  ...                796          Boomers\n",
              "\n",
              "[5 rows x 12 columns]"
            ]
          },
          "metadata": {
            "tags": []
          },
          "execution_count": 5
        }
      ]
    },
    {
      "cell_type": "markdown",
      "metadata": {
        "id": "sZ-2U7QvIinY"
      },
      "source": [
        "El siguiente paso fue eliminar las columnas que no necesitamos, para optimizar el código, en este caso decidimos eliminar la columna  _**population**_ esto debido a que ya tiene el porcentaje de suicidios por población así que sería redundante, la columna _**country-year**_ porque al igual que la columna *population* es redundante, pues ya tenemos tanto el país como el año,  _**HDI for year**_ debido a que no es útil para nuestros objetivos y la columna _**gdp_for_year**_ esto porque preferimos basarnos en la columna _**gdp_per_capita**_.\n",
        "\n",
        "Para esto utilizamos la función *drop()*, cabe mencionar que estos cambios decidimos almacenarnos en otra variable, para poder seguir teniendo nuestros datos originales."
      ]
    },
    {
      "cell_type": "code",
      "metadata": {
        "colab": {
          "base_uri": "https://localhost:8080/",
          "height": 204
        },
        "id": "oVwZ2nEEIina",
        "scrolled": true,
        "outputId": "ed80dbb5-4f8b-4483-d7ac-a2f50f750932"
      },
      "source": [
        "ds = datos.drop(['country-year','population',' gdp_for_year ($) ','HDI for year'],axis = 1)\n",
        "ds.head()"
      ],
      "execution_count": 6,
      "outputs": [
        {
          "output_type": "execute_result",
          "data": {
            "text/html": [
              "<div>\n",
              "<style scoped>\n",
              "    .dataframe tbody tr th:only-of-type {\n",
              "        vertical-align: middle;\n",
              "    }\n",
              "\n",
              "    .dataframe tbody tr th {\n",
              "        vertical-align: top;\n",
              "    }\n",
              "\n",
              "    .dataframe thead th {\n",
              "        text-align: right;\n",
              "    }\n",
              "</style>\n",
              "<table border=\"1\" class=\"dataframe\">\n",
              "  <thead>\n",
              "    <tr style=\"text-align: right;\">\n",
              "      <th></th>\n",
              "      <th>country</th>\n",
              "      <th>year</th>\n",
              "      <th>sex</th>\n",
              "      <th>age</th>\n",
              "      <th>suicides_no</th>\n",
              "      <th>suicides/100k pop</th>\n",
              "      <th>gdp_per_capita ($)</th>\n",
              "      <th>generation</th>\n",
              "    </tr>\n",
              "  </thead>\n",
              "  <tbody>\n",
              "    <tr>\n",
              "      <th>0</th>\n",
              "      <td>Albania</td>\n",
              "      <td>1987</td>\n",
              "      <td>male</td>\n",
              "      <td>15-24 years</td>\n",
              "      <td>21</td>\n",
              "      <td>6.71</td>\n",
              "      <td>796</td>\n",
              "      <td>Generation X</td>\n",
              "    </tr>\n",
              "    <tr>\n",
              "      <th>1</th>\n",
              "      <td>Albania</td>\n",
              "      <td>1987</td>\n",
              "      <td>male</td>\n",
              "      <td>35-54 years</td>\n",
              "      <td>16</td>\n",
              "      <td>5.19</td>\n",
              "      <td>796</td>\n",
              "      <td>Silent</td>\n",
              "    </tr>\n",
              "    <tr>\n",
              "      <th>2</th>\n",
              "      <td>Albania</td>\n",
              "      <td>1987</td>\n",
              "      <td>female</td>\n",
              "      <td>15-24 years</td>\n",
              "      <td>14</td>\n",
              "      <td>4.83</td>\n",
              "      <td>796</td>\n",
              "      <td>Generation X</td>\n",
              "    </tr>\n",
              "    <tr>\n",
              "      <th>3</th>\n",
              "      <td>Albania</td>\n",
              "      <td>1987</td>\n",
              "      <td>male</td>\n",
              "      <td>75+ years</td>\n",
              "      <td>1</td>\n",
              "      <td>4.59</td>\n",
              "      <td>796</td>\n",
              "      <td>G.I. Generation</td>\n",
              "    </tr>\n",
              "    <tr>\n",
              "      <th>4</th>\n",
              "      <td>Albania</td>\n",
              "      <td>1987</td>\n",
              "      <td>male</td>\n",
              "      <td>25-34 years</td>\n",
              "      <td>9</td>\n",
              "      <td>3.28</td>\n",
              "      <td>796</td>\n",
              "      <td>Boomers</td>\n",
              "    </tr>\n",
              "  </tbody>\n",
              "</table>\n",
              "</div>"
            ],
            "text/plain": [
              "   country  year  ... gdp_per_capita ($)       generation\n",
              "0  Albania  1987  ...                796     Generation X\n",
              "1  Albania  1987  ...                796           Silent\n",
              "2  Albania  1987  ...                796     Generation X\n",
              "3  Albania  1987  ...                796  G.I. Generation\n",
              "4  Albania  1987  ...                796          Boomers\n",
              "\n",
              "[5 rows x 8 columns]"
            ]
          },
          "metadata": {
            "tags": []
          },
          "execution_count": 6
        }
      ]
    },
    {
      "cell_type": "markdown",
      "metadata": {
        "id": "67JyiurdIino"
      },
      "source": [
        "Ahora vamos a cambiarle el nombre a las columnas para que nos sea más fácil manipular los datos."
      ]
    },
    {
      "cell_type": "code",
      "metadata": {
        "colab": {
          "base_uri": "https://localhost:8080/",
          "height": 204
        },
        "id": "dQWNit3aIinq",
        "outputId": "f8264b4c-0c8e-4141-b271-7783d517524d"
      },
      "source": [
        "ds.rename(columns={'suicides/100k pop':'porcentaje_suicidios',\n",
        "                     'gdp_per_capita ($)':'per_capita'},\n",
        "               inplace=True)\n",
        "\n",
        "ds.head()"
      ],
      "execution_count": 7,
      "outputs": [
        {
          "output_type": "execute_result",
          "data": {
            "text/html": [
              "<div>\n",
              "<style scoped>\n",
              "    .dataframe tbody tr th:only-of-type {\n",
              "        vertical-align: middle;\n",
              "    }\n",
              "\n",
              "    .dataframe tbody tr th {\n",
              "        vertical-align: top;\n",
              "    }\n",
              "\n",
              "    .dataframe thead th {\n",
              "        text-align: right;\n",
              "    }\n",
              "</style>\n",
              "<table border=\"1\" class=\"dataframe\">\n",
              "  <thead>\n",
              "    <tr style=\"text-align: right;\">\n",
              "      <th></th>\n",
              "      <th>country</th>\n",
              "      <th>year</th>\n",
              "      <th>sex</th>\n",
              "      <th>age</th>\n",
              "      <th>suicides_no</th>\n",
              "      <th>porcentaje_suicidios</th>\n",
              "      <th>per_capita</th>\n",
              "      <th>generation</th>\n",
              "    </tr>\n",
              "  </thead>\n",
              "  <tbody>\n",
              "    <tr>\n",
              "      <th>0</th>\n",
              "      <td>Albania</td>\n",
              "      <td>1987</td>\n",
              "      <td>male</td>\n",
              "      <td>15-24 years</td>\n",
              "      <td>21</td>\n",
              "      <td>6.71</td>\n",
              "      <td>796</td>\n",
              "      <td>Generation X</td>\n",
              "    </tr>\n",
              "    <tr>\n",
              "      <th>1</th>\n",
              "      <td>Albania</td>\n",
              "      <td>1987</td>\n",
              "      <td>male</td>\n",
              "      <td>35-54 years</td>\n",
              "      <td>16</td>\n",
              "      <td>5.19</td>\n",
              "      <td>796</td>\n",
              "      <td>Silent</td>\n",
              "    </tr>\n",
              "    <tr>\n",
              "      <th>2</th>\n",
              "      <td>Albania</td>\n",
              "      <td>1987</td>\n",
              "      <td>female</td>\n",
              "      <td>15-24 years</td>\n",
              "      <td>14</td>\n",
              "      <td>4.83</td>\n",
              "      <td>796</td>\n",
              "      <td>Generation X</td>\n",
              "    </tr>\n",
              "    <tr>\n",
              "      <th>3</th>\n",
              "      <td>Albania</td>\n",
              "      <td>1987</td>\n",
              "      <td>male</td>\n",
              "      <td>75+ years</td>\n",
              "      <td>1</td>\n",
              "      <td>4.59</td>\n",
              "      <td>796</td>\n",
              "      <td>G.I. Generation</td>\n",
              "    </tr>\n",
              "    <tr>\n",
              "      <th>4</th>\n",
              "      <td>Albania</td>\n",
              "      <td>1987</td>\n",
              "      <td>male</td>\n",
              "      <td>25-34 years</td>\n",
              "      <td>9</td>\n",
              "      <td>3.28</td>\n",
              "      <td>796</td>\n",
              "      <td>Boomers</td>\n",
              "    </tr>\n",
              "  </tbody>\n",
              "</table>\n",
              "</div>"
            ],
            "text/plain": [
              "   country  year     sex  ... porcentaje_suicidios  per_capita       generation\n",
              "0  Albania  1987    male  ...                 6.71         796     Generation X\n",
              "1  Albania  1987    male  ...                 5.19         796           Silent\n",
              "2  Albania  1987  female  ...                 4.83         796     Generation X\n",
              "3  Albania  1987    male  ...                 4.59         796  G.I. Generation\n",
              "4  Albania  1987    male  ...                 3.28         796          Boomers\n",
              "\n",
              "[5 rows x 8 columns]"
            ]
          },
          "metadata": {
            "tags": []
          },
          "execution_count": 7
        }
      ]
    },
    {
      "cell_type": "markdown",
      "metadata": {
        "id": "zk0eyx_3UAlK"
      },
      "source": [
        "Otro detalle que notamos es que los datos del 2016 están incompletos, y eso afectaba la parte de la visualización, así que decidimos eliminar las filas que tuvieran el año 2016."
      ]
    },
    {
      "cell_type": "code",
      "metadata": {
        "id": "ALCkOIIeUAlM"
      },
      "source": [
        "ds = ds.drop(ds[ds['year']==2016].index)"
      ],
      "execution_count": 8,
      "outputs": []
    },
    {
      "cell_type": "markdown",
      "metadata": {
        "id": "lIGImTahIin9"
      },
      "source": [
        "Lo siguiente es ver si nuestra base contiene datos nulos, a simple vista no se ve ninguno, pero lo verficamos con la siguiente función:"
      ]
    },
    {
      "cell_type": "code",
      "metadata": {
        "colab": {
          "base_uri": "https://localhost:8080/"
        },
        "id": "MqMotZsdIioA",
        "outputId": "540ecb76-82ef-4a5a-d881-80d8e8db98e4"
      },
      "source": [
        "ds.isnull().any()"
      ],
      "execution_count": 9,
      "outputs": [
        {
          "output_type": "execute_result",
          "data": {
            "text/plain": [
              "country                 False\n",
              "year                    False\n",
              "sex                     False\n",
              "age                     False\n",
              "suicides_no             False\n",
              "porcentaje_suicidios    False\n",
              "per_capita              False\n",
              "generation              False\n",
              "dtype: bool"
            ]
          },
          "metadata": {
            "tags": []
          },
          "execution_count": 9
        }
      ]
    },
    {
      "cell_type": "markdown",
      "metadata": {
        "id": "KpVRYWWYIioO"
      },
      "source": [
        "Ahora procederemos a guardar estos datos en un nuevo archivo csv."
      ]
    },
    {
      "cell_type": "code",
      "metadata": {
        "id": "xMnHGXD1IioW"
      },
      "source": [
        "ds.to_csv('Datos_Suicidios_limpios.csv', index=False)"
      ],
      "execution_count": 10,
      "outputs": []
    },
    {
      "cell_type": "markdown",
      "metadata": {
        "id": "2I1_C5Z8Iioi"
      },
      "source": [
        "Como hemos visto tenemos muchos datos y esto nos dificulta el estudio estadístico de los mismos así que decidimos agrupar los datos por edades, esto porque nos interesa ver como es que varían los números de suicidios de acuerdo a las edades. Para esto primero vemos cuales son los valores únicos de edades."
      ]
    },
    {
      "cell_type": "code",
      "metadata": {
        "colab": {
          "base_uri": "https://localhost:8080/"
        },
        "id": "UhwtOZQgIion",
        "outputId": "ca05d289-ac5c-4ddf-e5f0-177834fb3d11"
      },
      "source": [
        "edad = ds.age.unique()\n",
        "print(edad)"
      ],
      "execution_count": 11,
      "outputs": [
        {
          "output_type": "stream",
          "text": [
            "['15-24 years' '35-54 years' '75+ years' '25-34 years' '55-74 years'\n",
            " '5-14 years']\n"
          ],
          "name": "stdout"
        }
      ]
    },
    {
      "cell_type": "markdown",
      "metadata": {
        "id": "zWDhBBVnIioy"
      },
      "source": [
        "Después con un ciclo for le asignamos cada agrupación de datos por rango de año a los elementos de una lista."
      ]
    },
    {
      "cell_type": "code",
      "metadata": {
        "colab": {
          "base_uri": "https://localhost:8080/",
          "height": 204
        },
        "id": "jIblsT05Iio1",
        "outputId": "d02e04d0-4bf8-48f6-a1eb-c0cc798e876e"
      },
      "source": [
        "col = []\n",
        "for i in range(0,6):\n",
        "    col.append(ds[ds['age']==edad[i]])\n",
        "\n",
        "col[0].head()"
      ],
      "execution_count": 12,
      "outputs": [
        {
          "output_type": "execute_result",
          "data": {
            "text/html": [
              "<div>\n",
              "<style scoped>\n",
              "    .dataframe tbody tr th:only-of-type {\n",
              "        vertical-align: middle;\n",
              "    }\n",
              "\n",
              "    .dataframe tbody tr th {\n",
              "        vertical-align: top;\n",
              "    }\n",
              "\n",
              "    .dataframe thead th {\n",
              "        text-align: right;\n",
              "    }\n",
              "</style>\n",
              "<table border=\"1\" class=\"dataframe\">\n",
              "  <thead>\n",
              "    <tr style=\"text-align: right;\">\n",
              "      <th></th>\n",
              "      <th>country</th>\n",
              "      <th>year</th>\n",
              "      <th>sex</th>\n",
              "      <th>age</th>\n",
              "      <th>suicides_no</th>\n",
              "      <th>porcentaje_suicidios</th>\n",
              "      <th>per_capita</th>\n",
              "      <th>generation</th>\n",
              "    </tr>\n",
              "  </thead>\n",
              "  <tbody>\n",
              "    <tr>\n",
              "      <th>0</th>\n",
              "      <td>Albania</td>\n",
              "      <td>1987</td>\n",
              "      <td>male</td>\n",
              "      <td>15-24 years</td>\n",
              "      <td>21</td>\n",
              "      <td>6.71</td>\n",
              "      <td>796</td>\n",
              "      <td>Generation X</td>\n",
              "    </tr>\n",
              "    <tr>\n",
              "      <th>2</th>\n",
              "      <td>Albania</td>\n",
              "      <td>1987</td>\n",
              "      <td>female</td>\n",
              "      <td>15-24 years</td>\n",
              "      <td>14</td>\n",
              "      <td>4.83</td>\n",
              "      <td>796</td>\n",
              "      <td>Generation X</td>\n",
              "    </tr>\n",
              "    <tr>\n",
              "      <th>13</th>\n",
              "      <td>Albania</td>\n",
              "      <td>1988</td>\n",
              "      <td>male</td>\n",
              "      <td>15-24 years</td>\n",
              "      <td>17</td>\n",
              "      <td>5.33</td>\n",
              "      <td>769</td>\n",
              "      <td>Generation X</td>\n",
              "    </tr>\n",
              "    <tr>\n",
              "      <th>17</th>\n",
              "      <td>Albania</td>\n",
              "      <td>1988</td>\n",
              "      <td>female</td>\n",
              "      <td>15-24 years</td>\n",
              "      <td>8</td>\n",
              "      <td>2.71</td>\n",
              "      <td>769</td>\n",
              "      <td>Generation X</td>\n",
              "    </tr>\n",
              "    <tr>\n",
              "      <th>28</th>\n",
              "      <td>Albania</td>\n",
              "      <td>1989</td>\n",
              "      <td>male</td>\n",
              "      <td>15-24 years</td>\n",
              "      <td>12</td>\n",
              "      <td>3.71</td>\n",
              "      <td>833</td>\n",
              "      <td>Generation X</td>\n",
              "    </tr>\n",
              "  </tbody>\n",
              "</table>\n",
              "</div>"
            ],
            "text/plain": [
              "    country  year     sex  ... porcentaje_suicidios  per_capita    generation\n",
              "0   Albania  1987    male  ...                 6.71         796  Generation X\n",
              "2   Albania  1987  female  ...                 4.83         796  Generation X\n",
              "13  Albania  1988    male  ...                 5.33         769  Generation X\n",
              "17  Albania  1988  female  ...                 2.71         769  Generation X\n",
              "28  Albania  1989    male  ...                 3.71         833  Generation X\n",
              "\n",
              "[5 rows x 8 columns]"
            ]
          },
          "metadata": {
            "tags": []
          },
          "execution_count": 12
        }
      ]
    },
    {
      "cell_type": "markdown",
      "metadata": {
        "id": "5Yc_eclDxPIa"
      },
      "source": [
        "## Estadística básica"
      ]
    },
    {
      "cell_type": "markdown",
      "metadata": {
        "id": "vGCfzd6DxXLz"
      },
      "source": [
        "- Para la estadística básica decidimos usar la función *describe()* dado que ésta nos arroja un resumen estadístico de una columna que en este caso fue la de *suicides_no*"
      ]
    },
    {
      "cell_type": "code",
      "metadata": {
        "colab": {
          "base_uri": "https://localhost:8080/"
        },
        "id": "M6zJAZeAzEvc",
        "outputId": "a43baeb3-b3b3-4dda-e3e2-7c433687017e"
      },
      "source": [
        "ds['suicides_no'].describe()"
      ],
      "execution_count": null,
      "outputs": [
        {
          "output_type": "execute_result",
          "data": {
            "text/plain": [
              "count    27660.000000\n",
              "mean       243.413485\n",
              "std        904.490185\n",
              "min          0.000000\n",
              "25%          3.000000\n",
              "50%         25.000000\n",
              "75%        132.000000\n",
              "max      22338.000000\n",
              "Name: suicides_no, dtype: float64"
            ]
          },
          "metadata": {
            "tags": []
          },
          "execution_count": 17
        }
      ]
    },
    {
      "cell_type": "markdown",
      "metadata": {
        "id": "KfX_rry-JbF5"
      },
      "source": [
        "\n",
        "-Lo que nos pareció más relevante de este resumen estadístico fueron los valores mínimo y máximo ya que nos muestra que los datos tiene mucha variabilidad, lo que nos reafirma que es más conveniente trabajar por agrupaciones."
      ]
    },
    {
      "cell_type": "markdown",
      "metadata": {
        "id": "FptZ_bYCUAm7"
      },
      "source": [
        "- Dado que los valores tienen mucho variabilidad, decidimos ver que tanto varían por rango de edad."
      ]
    },
    {
      "cell_type": "markdown",
      "metadata": {
        "id": "g5Bv_h9w8HWH"
      },
      "source": [
        "**$$5-14$$**"
      ]
    },
    {
      "cell_type": "code",
      "metadata": {
        "id": "_T5Xd04EUAm9",
        "outputId": "93896620-6a32-4125-840e-12f92429681e"
      },
      "source": [
        "col[5]['suicides_no'].describe()"
      ],
      "execution_count": null,
      "outputs": [
        {
          "output_type": "execute_result",
          "data": {
            "text/plain": [
              "count    4610.000000\n",
              "mean       11.337093\n",
              "std        30.907550\n",
              "min         0.000000\n",
              "25%         0.000000\n",
              "50%         2.000000\n",
              "75%         8.000000\n",
              "max       404.000000\n",
              "Name: suicides_no, dtype: float64"
            ]
          },
          "metadata": {
            "tags": []
          },
          "execution_count": 18
        }
      ]
    },
    {
      "cell_type": "markdown",
      "metadata": {
        "id": "0n8HEVfl8HWI"
      },
      "source": [
        "**$$15-24$$**"
      ]
    },
    {
      "cell_type": "code",
      "metadata": {
        "id": "7a8Q1XLIUAnT",
        "scrolled": true,
        "outputId": "16aa2b94-67ce-482c-caa4-a0cbd1bf7eb1"
      },
      "source": [
        "col[0]['suicides_no'].describe()"
      ],
      "execution_count": null,
      "outputs": [
        {
          "output_type": "execute_result",
          "data": {
            "text/plain": [
              "count    4610.000000\n",
              "mean      175.129501\n",
              "std       523.256414\n",
              "min         0.000000\n",
              "25%         6.000000\n",
              "50%        33.000000\n",
              "75%       120.000000\n",
              "max      6945.000000\n",
              "Name: suicides_no, dtype: float64"
            ]
          },
          "metadata": {
            "tags": []
          },
          "execution_count": 19
        }
      ]
    },
    {
      "cell_type": "markdown",
      "metadata": {
        "id": "Ip1-oSMJ8HWI"
      },
      "source": [
        "**$$25-34$$**"
      ]
    },
    {
      "cell_type": "code",
      "metadata": {
        "id": "jq5oJB8HUAnf",
        "outputId": "a5d714c1-4840-4201-d498-30c6d596c65e"
      },
      "source": [
        "col[3]['suicides_no'].describe()"
      ],
      "execution_count": null,
      "outputs": [
        {
          "output_type": "execute_result",
          "data": {
            "text/plain": [
              "count     4610.000000\n",
              "mean       243.349675\n",
              "std        763.770222\n",
              "min          0.000000\n",
              "25%          8.000000\n",
              "50%         42.000000\n",
              "75%        154.750000\n",
              "max      10310.000000\n",
              "Name: suicides_no, dtype: float64"
            ]
          },
          "metadata": {
            "tags": []
          },
          "execution_count": 20
        }
      ]
    },
    {
      "cell_type": "markdown",
      "metadata": {
        "id": "0Oh65SdN8HWJ"
      },
      "source": [
        "**$$35-54$$**"
      ]
    },
    {
      "cell_type": "code",
      "metadata": {
        "id": "DUbnQgvFUAnr",
        "outputId": "802f0fcc-55df-48ea-cefb-6663975e5527"
      },
      "source": [
        "col[1]['suicides_no'].describe()"
      ],
      "execution_count": null,
      "outputs": [
        {
          "output_type": "execute_result",
          "data": {
            "text/plain": [
              "count     4610.000000\n",
              "mean       530.667028\n",
              "std       1646.488573\n",
              "min          0.000000\n",
              "25%         12.000000\n",
              "50%         87.000000\n",
              "75%        343.000000\n",
              "max      22338.000000\n",
              "Name: suicides_no, dtype: float64"
            ]
          },
          "metadata": {
            "tags": []
          },
          "execution_count": 21
        }
      ]
    },
    {
      "cell_type": "markdown",
      "metadata": {
        "id": "1EtPHsdo8HWJ"
      },
      "source": [
        "**$$55-74$$**"
      ]
    },
    {
      "cell_type": "code",
      "metadata": {
        "id": "jNpIHgatUAn7",
        "outputId": "0690ccfe-6395-4441-9dd0-ebd57c49834b"
      },
      "source": [
        "col[4]['suicides_no'].describe()"
      ],
      "execution_count": null,
      "outputs": [
        {
          "output_type": "execute_result",
          "data": {
            "text/plain": [
              "count     4610.000000\n",
              "mean       358.726247\n",
              "std       1020.669146\n",
              "min          0.000000\n",
              "25%          5.000000\n",
              "50%         56.000000\n",
              "75%        244.000000\n",
              "max      11431.000000\n",
              "Name: suicides_no, dtype: float64"
            ]
          },
          "metadata": {
            "tags": []
          },
          "execution_count": 22
        }
      ]
    },
    {
      "cell_type": "markdown",
      "metadata": {
        "id": "Wvfx30IN8HWJ"
      },
      "source": [
        "**$$75+$$**"
      ]
    },
    {
      "cell_type": "code",
      "metadata": {
        "id": "d5652ZqTUAoG",
        "outputId": "2f79e0e9-65bd-49eb-a6f9-93eaa0721528"
      },
      "source": [
        "col[2]['suicides_no'].describe()"
      ],
      "execution_count": null,
      "outputs": [
        {
          "output_type": "execute_result",
          "data": {
            "text/plain": [
              "count    4610.000000\n",
              "mean      141.271367\n",
              "std       365.940282\n",
              "min         0.000000\n",
              "25%         1.000000\n",
              "50%        19.000000\n",
              "75%        94.000000\n",
              "max      3171.000000\n",
              "Name: suicides_no, dtype: float64"
            ]
          },
          "metadata": {
            "tags": []
          },
          "execution_count": 23
        }
      ]
    },
    {
      "cell_type": "markdown",
      "metadata": {
        "id": "DAiriZzziL27"
      },
      "source": [
        "-De los resúmenes estadísticos obtenidos por rango de edad podemos concluir dos cosas, la primera es que efectivamente cada rango tiene la misma cantidad de elementos y la segunda es que podemos ver que su variabilidad es más aceptable y fácil de manejear si se compara con la obtenida en la columna de suicides_no.\n",
        "    \n",
        "$$$$\n",
        "Esto nos ayuda a ver la gran utilidad que será trabajar en agrupaciones y dado que es un proceso repetitivo decidimos no obtener los resúmenes estadísticos de todas las agrupaciones a utilizar pero se mostrarán gráficamente más adelante."
      ]
    },
    {
      "cell_type": "markdown",
      "metadata": {
        "id": "_5fuXqJZ0JKz"
      },
      "source": [
        "- Además, decidimos aplican la función *skew()* para obtener el valor de asimetría de la columna *suicides_no*"
      ]
    },
    {
      "cell_type": "code",
      "metadata": {
        "colab": {
          "base_uri": "https://localhost:8080/"
        },
        "id": "JUxtNT1BzHfA",
        "outputId": "72be5a75-f8ef-4f5b-8d44-83457543a83b"
      },
      "source": [
        "ds['suicides_no'].skew()"
      ],
      "execution_count": null,
      "outputs": [
        {
          "output_type": "execute_result",
          "data": {
            "text/plain": [
              "10.325864499495285"
            ]
          },
          "metadata": {
            "tags": []
          },
          "execution_count": 24
        }
      ]
    },
    {
      "cell_type": "markdown",
      "metadata": {
        "id": "OrK3KBYQ5NIB"
      },
      "source": [
        "\n",
        "-Como el valor de asimetría es mayor que 1 y por lo tanto positivo, podemos decir que la columna tiene una distribución extremadamente sesgada a la izquierda y ésto se confirmará con las gráficas."
      ]
    },
    {
      "cell_type": "markdown",
      "metadata": {
        "id": "G3dcwnXzUAoR"
      },
      "source": [
        "## Visualización de datos"
      ]
    },
    {
      "cell_type": "markdown",
      "metadata": {
        "id": "xY5dsEHwUAoT"
      },
      "source": [
        "Importamos las librerías que vamos a utilizar para realizar las gráficas."
      ]
    },
    {
      "cell_type": "code",
      "metadata": {
        "id": "FJAfXeNgUAoV"
      },
      "source": [
        "import matplotlib.pyplot as plt\n",
        "import seaborn as sns\n",
        "import plotly.express as px #https://plotly.com/python/plotly-express/"
      ],
      "execution_count": 13,
      "outputs": []
    },
    {
      "cell_type": "markdown",
      "metadata": {
        "id": "8qnueFUYUAp4"
      },
      "source": [
        "El gráfico que se presenta a continuación muestra nuestros datos divididos por rango de edades y separados por sexo."
      ]
    },
    {
      "cell_type": "code",
      "metadata": {
        "id": "ziJnw5VrUAp6",
        "colab": {
          "base_uri": "https://localhost:8080/",
          "height": 468
        },
        "outputId": "8f42a97a-c169-419e-faa4-334948103feb"
      },
      "source": [
        "plt.figure(figsize=(16,7))\n",
        "gb_edad = sns.barplot(x = 'sex', y = 'suicides_no', hue = 'age',data = ds, palette='Set2')\n",
        "\n",
        "plt.xlabel('Sexo')\n",
        "plt.ylabel('Número de suicidios')\n",
        "plt.title('Gráfica 1: Número de suicidios por sexo y edad',size = 30)"
      ],
      "execution_count": 14,
      "outputs": [
        {
          "output_type": "execute_result",
          "data": {
            "text/plain": [
              "Text(0.5, 1.0, 'Gráfica 1: Número de suicidios por sexo y edad')"
            ]
          },
          "metadata": {
            "tags": []
          },
          "execution_count": 14
        },
        {
          "output_type": "display_data",
          "data": {
            "image/png": "[encoded data removed]",
            "text/plain": [
              "<Figure size 1152x504 with 1 Axes>"
            ]
          },
          "metadata": {
            "tags": [],
            "needs_background": "light"
          }
        }
      ]
    },
    {
      "cell_type": "markdown",
      "metadata": {
        "id": "KqN6wKpsUAqD"
      },
      "source": [
        "Como podemos ver en el gráfico anterior los hombres son el género con un mayor número de suicidios y además el rango de edad donde hay más suicidios es entre los 35 y 54 años de edad seguido por los de 55-74 años."
      ]
    },
    {
      "cell_type": "markdown",
      "metadata": {
        "id": "hHWkl-zwUAo0"
      },
      "source": [
        "Ahora, buscando los países con mayor número de suicidios nos apoyamos en el siguiente mapa. "
      ]
    },
    {
      "cell_type": "code",
      "metadata": {
        "id": "-vkM2JbbUAo_",
        "scrolled": false,
        "colab": {
          "base_uri": "https://localhost:8080/",
          "height": 542
        },
        "outputId": "496d5d39-5e02-4936-d1d5-66f816fdb2e8"
      },
      "source": [
        "#para este gráfico se INSTALA e IMPORTA la libreria plotly \n",
        "mapita = ds.groupby(by=['country']).agg({\"suicides_no\": ['sum']})\n",
        "mapita.columns = ['total_suicidios']\n",
        "mapita.reset_index(inplace=True)\n",
        "mapita\n",
        "\n",
        "fig = px.choropleth(mapita, locations=\"country\", locationmode='country names',\n",
        "                    color=\"total_suicidios\", \n",
        "                    hover_name=\"country\", \n",
        "                    color_continuous_scale='sunset') \n",
        "\n",
        "fig.update_layout(\n",
        "    title=\"Gráfica 2: Mapa de suicidios (1985 - 2015)\",\n",
        "    font=dict(\n",
        "        family=\"Courier New, monospace\",\n",
        "        size=18,\n",
        "        color=\"RebeccaPurple\" \n",
        "    )\n",
        ")\n",
        "\n",
        "fig.show()"
      ],
      "execution_count": 15,
      "outputs": [
        {
          "output_type": "display_data",
          "data": {
            "text/html": [
              "<html>\n",
              "<head><meta charset=\"utf-8\" /></head>\n",
              "<body>\n",
              "    <div>\n",
              "            <script src=\"https://cdnjs.cloudflare.com/ajax/libs/mathjax/2.7.5/MathJax.js?config=TeX-AMS-MML_SVG\"></script><script type=\"text/javascript\">if (window.MathJax) {MathJax.Hub.Config({SVG: {font: \"STIX-Web\"}});}</script>\n",
              "                <script type=\"text/javascript\">window.PlotlyConfig = {MathJaxConfig: 'local'};</script>\n",
              "        <script src=\"https://cdn.plot.ly/plotly-latest.min.js\"></script>    \n",
              "            <div id=\"dae283d8-b396-4939-be13-3c430d01d08e\" class=\"plotly-graph-div\" style=\"height:525px; width:100%;\"></div>\n",
              "            <script type=\"text/javascript\">\n",
              "                \n",
              "                    window.PLOTLYENV=window.PLOTLYENV || {};\n",
              "                    \n",
              "                if (document.getElementById(\"dae283d8-b396-4939-be13-3c430d01d08e\")) {\n",
              "                    Plotly.newPlot(\n",
              "                        'dae283d8-b396-4939-be13-3c430d01d08e',\n",
              "                        [{\"coloraxis\": \"coloraxis\", \"geo\": \"geo\", \"hoverlabel\": {\"namelength\": 0}, \"hovertemplate\": \"<b>%{hovertext}</b><br><br>country=%{location}<br>total_suicidios=%{z}\", \"hovertext\": [\"Albania\", \"Antigua and Barbuda\", \"Argentina\", \"Armenia\", \"Aruba\", \"Australia\", \"Austria\", \"Azerbaijan\", \"Bahamas\", \"Bahrain\", \"Barbados\", \"Belarus\", \"Belgium\", \"Belize\", \"Bosnia and Herzegovina\", \"Brazil\", \"Bulgaria\", \"Cabo Verde\", \"Canada\", \"Chile\", \"Colombia\", \"Costa Rica\", \"Croatia\", \"Cuba\", \"Cyprus\", \"Czech Republic\", \"Denmark\", \"Dominica\", \"Ecuador\", \"El Salvador\", \"Estonia\", \"Fiji\", \"Finland\", \"France\", \"Georgia\", \"Germany\", \"Greece\", \"Grenada\", \"Guatemala\", \"Guyana\", \"Hungary\", \"Iceland\", \"Ireland\", \"Israel\", \"Italy\", \"Jamaica\", \"Japan\", \"Kazakhstan\", \"Kiribati\", \"Kuwait\", \"Kyrgyzstan\", \"Latvia\", \"Lithuania\", \"Luxembourg\", \"Macau\", \"Maldives\", \"Malta\", \"Mauritius\", \"Mexico\", \"Montenegro\", \"Netherlands\", \"New Zealand\", \"Nicaragua\", \"Norway\", \"Oman\", \"Panama\", \"Paraguay\", \"Philippines\", \"Poland\", \"Portugal\", \"Puerto Rico\", \"Qatar\", \"Republic of Korea\", \"Romania\", \"Russian Federation\", \"Saint Kitts and Nevis\", \"Saint Lucia\", \"Saint Vincent and Grenadines\", \"San Marino\", \"Serbia\", \"Seychelles\", \"Singapore\", \"Slovakia\", \"Slovenia\", \"South Africa\", \"Spain\", \"Sri Lanka\", \"Suriname\", \"Sweden\", \"Switzerland\", \"Thailand\", \"Trinidad and Tobago\", \"Turkey\", \"Turkmenistan\", \"Ukraine\", \"United Arab Emirates\", \"United Kingdom\", \"United States\", \"Uruguay\", \"Uzbekistan\"], \"locationmode\": \"country names\", \"locations\": [\"Albania\", \"Antigua and Barbuda\", \"Argentina\", \"Armenia\", \"Aruba\", \"Australia\", \"Austria\", \"Azerbaijan\", \"Bahamas\", \"Bahrain\", \"Barbados\", \"Belarus\", \"Belgium\", \"Belize\", \"Bosnia and Herzegovina\", \"Brazil\", \"Bulgaria\", \"Cabo Verde\", \"Canada\", \"Chile\", \"Colombia\", \"Costa Rica\", \"Croatia\", \"Cuba\", \"Cyprus\", \"Czech Republic\", \"Denmark\", \"Dominica\", \"Ecuador\", \"El Salvador\", \"Estonia\", \"Fiji\", \"Finland\", \"France\", \"Georgia\", \"Germany\", \"Greece\", \"Grenada\", \"Guatemala\", \"Guyana\", \"Hungary\", \"Iceland\", \"Ireland\", \"Israel\", \"Italy\", \"Jamaica\", \"Japan\", \"Kazakhstan\", \"Kiribati\", \"Kuwait\", \"Kyrgyzstan\", \"Latvia\", \"Lithuania\", \"Luxembourg\", \"Macau\", \"Maldives\", \"Malta\", \"Mauritius\", \"Mexico\", \"Montenegro\", \"Netherlands\", \"New Zealand\", \"Nicaragua\", \"Norway\", \"Oman\", \"Panama\", \"Paraguay\", \"Philippines\", \"Poland\", \"Portugal\", \"Puerto Rico\", \"Qatar\", \"Republic of Korea\", \"Romania\", \"Russian Federation\", \"Saint Kitts and Nevis\", \"Saint Lucia\", \"Saint Vincent and Grenadines\", \"San Marino\", \"Serbia\", \"Seychelles\", \"Singapore\", \"Slovakia\", \"Slovenia\", \"South Africa\", \"Spain\", \"Sri Lanka\", \"Suriname\", \"Sweden\", \"Switzerland\", \"Thailand\", \"Trinidad and Tobago\", \"Turkey\", \"Turkmenistan\", \"Ukraine\", \"United Arab Emirates\", \"United Kingdom\", \"United States\", \"Uruguay\", \"Uzbekistan\"], \"name\": \"\", \"type\": \"choropleth\", \"z\": [1970, 11, 82219, 1838, 101, 70111, 48872, 1656, 93, 463, 177, 59892, 62761, 348, 318, 226613, 36388, 42, 107561, 40895, 53080, 6792, 17746, 41418, 376, 42369, 15297, 0, 20660, 11683, 7034, 304, 33677, 329127, 3224, 291262, 12368, 38, 8149, 3426, 72130, 1068, 12574, 11294, 132060, 184, 806902, 101546, 53, 966, 13090, 12770, 27217, 1958, 27, 20, 585, 3796, 111139, 472, 48947, 14383, 2013, 16992, 33, 3483, 4783, 21330, 139098, 24061, 9043, 506, 261730, 70824, 1209742, 0, 230, 124, 4, 24179, 98, 10089, 13437, 10615, 7321, 100202, 55641, 2166, 36665, 26217, 106526, 4039, 10131, 8624, 319950, 622, 136805, 1034013, 13138, 34803]}],\n",
              "                        {\"coloraxis\": {\"colorbar\": {\"title\": {\"text\": \"total_suicidios\"}}, \"colorscale\": [[0.0, \"rgb(243, 231, 155)\"], [0.16666666666666666, \"rgb(250, 196, 132)\"], [0.3333333333333333, \"rgb(248, 160, 126)\"], [0.5, \"rgb(235, 127, 134)\"], [0.6666666666666666, \"rgb(206, 102, 147)\"], [0.8333333333333334, \"rgb(160, 89, 160)\"], [1.0, \"rgb(92, 83, 165)\"]]}, \"font\": {\"color\": \"RebeccaPurple\", \"family\": \"Courier New, monospace\", \"size\": 18}, \"geo\": {\"center\": {}, \"domain\": {\"x\": [0.0, 1.0], \"y\": [0.0, 1.0]}}, \"legend\": {\"tracegroupgap\": 0}, \"margin\": {\"t\": 60}, \"template\": {\"data\": {\"bar\": [{\"error_x\": {\"color\": \"#2a3f5f\"}, \"error_y\": {\"color\": \"#2a3f5f\"}, \"marker\": {\"line\": {\"color\": \"#E5ECF6\", \"width\": 0.5}}, \"type\": \"bar\"}], \"barpolar\": [{\"marker\": {\"line\": {\"color\": \"#E5ECF6\", \"width\": 0.5}}, \"type\": \"barpolar\"}], \"carpet\": [{\"aaxis\": {\"endlinecolor\": \"#2a3f5f\", \"gridcolor\": \"white\", \"linecolor\": \"white\", \"minorgridcolor\": \"white\", \"startlinecolor\": \"#2a3f5f\"}, \"baxis\": {\"endlinecolor\": \"#2a3f5f\", \"gridcolor\": \"white\", \"linecolor\": \"white\", \"minorgridcolor\": \"white\", \"startlinecolor\": \"#2a3f5f\"}, \"type\": \"carpet\"}], \"choropleth\": [{\"colorbar\": {\"outlinewidth\": 0, \"ticks\": \"\"}, \"type\": \"choropleth\"}], \"contour\": [{\"colorbar\": {\"outlinewidth\": 0, \"ticks\": \"\"}, \"colorscale\": [[0.0, \"#0d0887\"], [0.1111111111111111, \"#46039f\"], [0.2222222222222222, \"#7201a8\"], [0.3333333333333333, \"#9c179e\"], [0.4444444444444444, \"#bd3786\"], [0.5555555555555556, \"#d8576b\"], [0.6666666666666666, \"#ed7953\"], [0.7777777777777778, \"#fb9f3a\"], [0.8888888888888888, \"#fdca26\"], [1.0, \"#f0f921\"]], \"type\": \"contour\"}], \"contourcarpet\": [{\"colorbar\": {\"outlinewidth\": 0, \"ticks\": \"\"}, \"type\": \"contourcarpet\"}], \"heatmap\": [{\"colorbar\": {\"outlinewidth\": 0, \"ticks\": \"\"}, \"colorscale\": [[0.0, \"#0d0887\"], [0.1111111111111111, \"#46039f\"], [0.2222222222222222, \"#7201a8\"], [0.3333333333333333, \"#9c179e\"], [0.4444444444444444, \"#bd3786\"], [0.5555555555555556, \"#d8576b\"], [0.6666666666666666, \"#ed7953\"], [0.7777777777777778, \"#fb9f3a\"], [0.8888888888888888, \"#fdca26\"], [1.0, \"#f0f921\"]], \"type\": \"heatmap\"}], \"heatmapgl\": [{\"colorbar\": {\"outlinewidth\": 0, \"ticks\": \"\"}, \"colorscale\": [[0.0, \"#0d0887\"], [0.1111111111111111, \"#46039f\"], [0.2222222222222222, \"#7201a8\"], [0.3333333333333333, \"#9c179e\"], [0.4444444444444444, \"#bd3786\"], [0.5555555555555556, \"#d8576b\"], [0.6666666666666666, \"#ed7953\"], [0.7777777777777778, \"#fb9f3a\"], [0.8888888888888888, \"#fdca26\"], [1.0, \"#f0f921\"]], \"type\": \"heatmapgl\"}], \"histogram\": [{\"marker\": {\"colorbar\": {\"outlinewidth\": 0, \"ticks\": \"\"}}, \"type\": \"histogram\"}], \"histogram2d\": [{\"colorbar\": {\"outlinewidth\": 0, \"ticks\": \"\"}, \"colorscale\": [[0.0, \"#0d0887\"], [0.1111111111111111, \"#46039f\"], [0.2222222222222222, \"#7201a8\"], [0.3333333333333333, \"#9c179e\"], [0.4444444444444444, \"#bd3786\"], [0.5555555555555556, \"#d8576b\"], [0.6666666666666666, \"#ed7953\"], [0.7777777777777778, \"#fb9f3a\"], [0.8888888888888888, \"#fdca26\"], [1.0, \"#f0f921\"]], \"type\": \"histogram2d\"}], \"histogram2dcontour\": [{\"colorbar\": {\"outlinewidth\": 0, \"ticks\": \"\"}, \"colorscale\": [[0.0, \"#0d0887\"], [0.1111111111111111, \"#46039f\"], [0.2222222222222222, \"#7201a8\"], [0.3333333333333333, \"#9c179e\"], [0.4444444444444444, \"#bd3786\"], [0.5555555555555556, \"#d8576b\"], [0.6666666666666666, \"#ed7953\"], [0.7777777777777778, \"#fb9f3a\"], [0.8888888888888888, \"#fdca26\"], [1.0, \"#f0f921\"]], \"type\": \"histogram2dcontour\"}], \"mesh3d\": [{\"colorbar\": {\"outlinewidth\": 0, \"ticks\": \"\"}, \"type\": \"mesh3d\"}], \"parcoords\": [{\"line\": {\"colorbar\": {\"outlinewidth\": 0, \"ticks\": \"\"}}, \"type\": \"parcoords\"}], \"pie\": [{\"automargin\": true, \"type\": \"pie\"}], \"scatter\": [{\"marker\": {\"colorbar\": {\"outlinewidth\": 0, \"ticks\": \"\"}}, \"type\": \"scatter\"}], \"scatter3d\": [{\"line\": {\"colorbar\": {\"outlinewidth\": 0, \"ticks\": \"\"}}, \"marker\": {\"colorbar\": {\"outlinewidth\": 0, \"ticks\": \"\"}}, \"type\": \"scatter3d\"}], \"scattercarpet\": [{\"marker\": {\"colorbar\": {\"outlinewidth\": 0, \"ticks\": \"\"}}, \"type\": \"scattercarpet\"}], \"scattergeo\": [{\"marker\": {\"colorbar\": {\"outlinewidth\": 0, \"ticks\": \"\"}}, \"type\": \"scattergeo\"}], \"scattergl\": [{\"marker\": {\"colorbar\": {\"outlinewidth\": 0, \"ticks\": \"\"}}, \"type\": \"scattergl\"}], \"scattermapbox\": [{\"marker\": {\"colorbar\": {\"outlinewidth\": 0, \"ticks\": \"\"}}, \"type\": \"scattermapbox\"}], \"scatterpolar\": [{\"marker\": {\"colorbar\": {\"outlinewidth\": 0, \"ticks\": \"\"}}, \"type\": \"scatterpolar\"}], \"scatterpolargl\": [{\"marker\": {\"colorbar\": {\"outlinewidth\": 0, \"ticks\": \"\"}}, \"type\": \"scatterpolargl\"}], \"scatterternary\": [{\"marker\": {\"colorbar\": {\"outlinewidth\": 0, \"ticks\": \"\"}}, \"type\": \"scatterternary\"}], \"surface\": [{\"colorbar\": {\"outlinewidth\": 0, \"ticks\": \"\"}, \"colorscale\": [[0.0, \"#0d0887\"], [0.1111111111111111, \"#46039f\"], [0.2222222222222222, \"#7201a8\"], [0.3333333333333333, \"#9c179e\"], [0.4444444444444444, \"#bd3786\"], [0.5555555555555556, \"#d8576b\"], [0.6666666666666666, \"#ed7953\"], [0.7777777777777778, \"#fb9f3a\"], [0.8888888888888888, \"#fdca26\"], [1.0, \"#f0f921\"]], \"type\": \"surface\"}], \"table\": [{\"cells\": {\"fill\": {\"color\": \"#EBF0F8\"}, \"line\": {\"color\": \"white\"}}, \"header\": {\"fill\": {\"color\": \"#C8D4E3\"}, \"line\": {\"color\": \"white\"}}, \"type\": \"table\"}]}, \"layout\": {\"annotationdefaults\": {\"arrowcolor\": \"#2a3f5f\", \"arrowhead\": 0, \"arrowwidth\": 1}, \"coloraxis\": {\"colorbar\": {\"outlinewidth\": 0, \"ticks\": \"\"}}, \"colorscale\": {\"diverging\": [[0, \"#8e0152\"], [0.1, \"#c51b7d\"], [0.2, \"#de77ae\"], [0.3, \"#f1b6da\"], [0.4, \"#fde0ef\"], [0.5, \"#f7f7f7\"], [0.6, \"#e6f5d0\"], [0.7, \"#b8e186\"], [0.8, \"#7fbc41\"], [0.9, \"#4d9221\"], [1, \"#276419\"]], \"sequential\": [[0.0, \"#0d0887\"], [0.1111111111111111, \"#46039f\"], [0.2222222222222222, \"#7201a8\"], [0.3333333333333333, \"#9c179e\"], [0.4444444444444444, \"#bd3786\"], [0.5555555555555556, \"#d8576b\"], [0.6666666666666666, \"#ed7953\"], [0.7777777777777778, \"#fb9f3a\"], [0.8888888888888888, \"#fdca26\"], [1.0, \"#f0f921\"]], \"sequentialminus\": [[0.0, \"#0d0887\"], [0.1111111111111111, \"#46039f\"], [0.2222222222222222, \"#7201a8\"], [0.3333333333333333, \"#9c179e\"], [0.4444444444444444, \"#bd3786\"], [0.5555555555555556, \"#d8576b\"], [0.6666666666666666, \"#ed7953\"], [0.7777777777777778, \"#fb9f3a\"], [0.8888888888888888, \"#fdca26\"], [1.0, \"#f0f921\"]]}, \"colorway\": [\"#636efa\", \"#EF553B\", \"#00cc96\", \"#ab63fa\", \"#FFA15A\", \"#19d3f3\", \"#FF6692\", \"#B6E880\", \"#FF97FF\", \"#FECB52\"], \"font\": {\"color\": \"#2a3f5f\"}, \"geo\": {\"bgcolor\": \"white\", \"lakecolor\": \"white\", \"landcolor\": \"#E5ECF6\", \"showlakes\": true, \"showland\": true, \"subunitcolor\": \"white\"}, \"hoverlabel\": {\"align\": \"left\"}, \"hovermode\": \"closest\", \"mapbox\": {\"style\": \"light\"}, \"paper_bgcolor\": \"white\", \"plot_bgcolor\": \"#E5ECF6\", \"polar\": {\"angularaxis\": {\"gridcolor\": \"white\", \"linecolor\": \"white\", \"ticks\": \"\"}, \"bgcolor\": \"#E5ECF6\", \"radialaxis\": {\"gridcolor\": \"white\", \"linecolor\": \"white\", \"ticks\": \"\"}}, \"scene\": {\"xaxis\": {\"backgroundcolor\": \"#E5ECF6\", \"gridcolor\": \"white\", \"gridwidth\": 2, \"linecolor\": \"white\", \"showbackground\": true, \"ticks\": \"\", \"zerolinecolor\": \"white\"}, \"yaxis\": {\"backgroundcolor\": \"#E5ECF6\", \"gridcolor\": \"white\", \"gridwidth\": 2, \"linecolor\": \"white\", \"showbackground\": true, \"ticks\": \"\", \"zerolinecolor\": \"white\"}, \"zaxis\": {\"backgroundcolor\": \"#E5ECF6\", \"gridcolor\": \"white\", \"gridwidth\": 2, \"linecolor\": \"white\", \"showbackground\": true, \"ticks\": \"\", \"zerolinecolor\": \"white\"}}, \"shapedefaults\": {\"line\": {\"color\": \"#2a3f5f\"}}, \"ternary\": {\"aaxis\": {\"gridcolor\": \"white\", \"linecolor\": \"white\", \"ticks\": \"\"}, \"baxis\": {\"gridcolor\": \"white\", \"linecolor\": \"white\", \"ticks\": \"\"}, \"bgcolor\": \"#E5ECF6\", \"caxis\": {\"gridcolor\": \"white\", \"linecolor\": \"white\", \"ticks\": \"\"}}, \"title\": {\"x\": 0.05}, \"xaxis\": {\"automargin\": true, \"gridcolor\": \"white\", \"linecolor\": \"white\", \"ticks\": \"\", \"title\": {\"standoff\": 15}, \"zerolinecolor\": \"white\", \"zerolinewidth\": 2}, \"yaxis\": {\"automargin\": true, \"gridcolor\": \"white\", \"linecolor\": \"white\", \"ticks\": \"\", \"title\": {\"standoff\": 15}, \"zerolinecolor\": \"white\", \"zerolinewidth\": 2}}}, \"title\": {\"text\": \"Gr\\u00e1fica 2: Mapa de suicidios (1985 - 2015)\"}},\n",
              "                        {\"responsive\": true}\n",
              "                    ).then(function(){\n",
              "                            \n",
              "var gd = document.getElementById('dae283d8-b396-4939-be13-3c430d01d08e');\n",
              "var x = new MutationObserver(function (mutations, observer) {{\n",
              "        var display = window.getComputedStyle(gd).display;\n",
              "        if (!display || display === 'none') {{\n",
              "            console.log([gd, 'removed!']);\n",
              "            Plotly.purge(gd);\n",
              "            observer.disconnect();\n",
              "        }}\n",
              "}});\n",
              "\n",
              "// Listen for the removal of the full notebook cells\n",
              "var notebookContainer = gd.closest('#notebook-container');\n",
              "if (notebookContainer) {{\n",
              "    x.observe(notebookContainer, {childList: true});\n",
              "}}\n",
              "\n",
              "// Listen for the clearing of the current output cell\n",
              "var outputEl = gd.closest('.output');\n",
              "if (outputEl) {{\n",
              "    x.observe(outputEl, {childList: true});\n",
              "}}\n",
              "\n",
              "                        })\n",
              "                };\n",
              "                \n",
              "            </script>\n",
              "        </div>\n",
              "</body>\n",
              "</html>"
            ]
          },
          "metadata": {
            "tags": []
          }
        }
      ]
    },
    {
      "cell_type": "markdown",
      "metadata": {
        "id": "yiDBQXLt8HWS"
      },
      "source": [
        "Como vemos, Rusia es el país con mayor número de suicidios a nivel mundial, así que decidimos ver sí en este país existía una relación significativa entre el Pib per cápita y el número de suicidios. <br>\n",
        "Lo primero que hicimos fue hacer una agrupación del número de suicidios por año en Rusia."
      ]
    },
    {
      "cell_type": "code",
      "metadata": {
        "id": "mRT25h0O8HWS",
        "outputId": "44051756-e50e-4125-831f-3b5a0c7eecc5"
      },
      "source": [
        "rusia = ds.groupby(by=['country', 'year', 'per_capita']).agg({\"suicides_no\": ['sum']})\n",
        "rusia.columns = [\"total_suicide\"]\n",
        "rusia.reset_index(inplace=True)\n",
        "   \n",
        "gdp_cn = rusia[rusia['country'] == 'Russian Federation']\n",
        "    \n",
        "gdp_cn.head()"
      ],
      "execution_count": null,
      "outputs": [
        {
          "output_type": "execute_result",
          "data": {
            "text/html": [
              "<div>\n",
              "<style scoped>\n",
              "    .dataframe tbody tr th:only-of-type {\n",
              "        vertical-align: middle;\n",
              "    }\n",
              "\n",
              "    .dataframe tbody tr th {\n",
              "        vertical-align: top;\n",
              "    }\n",
              "\n",
              "    .dataframe thead th {\n",
              "        text-align: right;\n",
              "    }\n",
              "</style>\n",
              "<table border=\"1\" class=\"dataframe\">\n",
              "  <thead>\n",
              "    <tr style=\"text-align: right;\">\n",
              "      <th></th>\n",
              "      <th>country</th>\n",
              "      <th>year</th>\n",
              "      <th>per_capita</th>\n",
              "      <th>total_suicide</th>\n",
              "    </tr>\n",
              "  </thead>\n",
              "  <tbody>\n",
              "    <tr>\n",
              "      <td>1733</td>\n",
              "      <td>Russian Federation</td>\n",
              "      <td>1989</td>\n",
              "      <td>3740</td>\n",
              "      <td>37921</td>\n",
              "    </tr>\n",
              "    <tr>\n",
              "      <td>1734</td>\n",
              "      <td>Russian Federation</td>\n",
              "      <td>1990</td>\n",
              "      <td>3789</td>\n",
              "      <td>39028</td>\n",
              "    </tr>\n",
              "    <tr>\n",
              "      <td>1735</td>\n",
              "      <td>Russian Federation</td>\n",
              "      <td>1991</td>\n",
              "      <td>3773</td>\n",
              "      <td>39281</td>\n",
              "    </tr>\n",
              "    <tr>\n",
              "      <td>1736</td>\n",
              "      <td>Russian Federation</td>\n",
              "      <td>1992</td>\n",
              "      <td>3333</td>\n",
              "      <td>45923</td>\n",
              "    </tr>\n",
              "    <tr>\n",
              "      <td>1737</td>\n",
              "      <td>Russian Federation</td>\n",
              "      <td>1993</td>\n",
              "      <td>3160</td>\n",
              "      <td>55846</td>\n",
              "    </tr>\n",
              "  </tbody>\n",
              "</table>\n",
              "</div>"
            ],
            "text/plain": [
              "                 country  year  per_capita  total_suicide\n",
              "1733  Russian Federation  1989        3740          37921\n",
              "1734  Russian Federation  1990        3789          39028\n",
              "1735  Russian Federation  1991        3773          39281\n",
              "1736  Russian Federation  1992        3333          45923\n",
              "1737  Russian Federation  1993        3160          55846"
            ]
          },
          "metadata": {
            "tags": []
          },
          "execution_count": 33
        }
      ]
    },
    {
      "cell_type": "markdown",
      "metadata": {
        "id": "ZpBwhY-78HWT"
      },
      "source": [
        "Después de haber obtenido esta agrupación decidimos realizar un diagrama de dispersión  de estos datos para identificar de manera gráfica si existe una realación entre dichas variables."
      ]
    },
    {
      "cell_type": "code",
      "metadata": {
        "id": "JwrbqrwF8HWT",
        "outputId": "848a9bce-9cea-44db-b1cb-b459bc41acea"
      },
      "source": [
        "import matplotlib.pyplot as plt\n",
        "import seaborn as sns\n",
        "\n",
        "sns.set(style=\"darkgrid\")\n",
        "sns.scatterplot(x=\"per_capita\", y=\"total_suicide\", data=gdp_cn)\n",
        "plt.title(\"Total de suicidios de Rusia -PIB per capita (1985 - 2015)\")\n",
        "plt.xlabel('PIB per capita')\n",
        "plt.ylabel('Total de suicidios')\n",
        "\n",
        "plt.show()"
      ],
      "execution_count": null,
      "outputs": [
        {
          "output_type": "display_data",
          "data": {
            "image/png": "[encoded data removed]",
            "text/plain": [
              "<Figure size 432x288 with 1 Axes>"
            ]
          },
          "metadata": {
            "tags": []
          }
        }
      ]
    },
    {
      "cell_type": "markdown",
      "metadata": {
        "id": "dk9PSsXx8HWT"
      },
      "source": [
        "Al visualizar la gráfica de dispersión notamos que esta sugiere una relación cuadrática negativa entre ambas variables, así que decidimos utilizar la técnica de _\"Regresión\"_ con el método de mínimos cuadrados con la ayuda de la librería statsmodel, para determinar si la relación era significativa o no. \n",
        "\n",
        "Link de la librería: https://www.statsmodels.org/devel/generated/statsmodels.regression.linear_model.OLSResults.html"
      ]
    },
    {
      "cell_type": "code",
      "metadata": {
        "id": "VyLn37Sq8HWT",
        "outputId": "4e7a771b-05d6-4f2a-c674-b0d11566a1ad"
      },
      "source": [
        "import statsmodels.api as sm\n",
        "gdp_cn['per_capita_2'] = gdp_cn['per_capita']**2\n",
        "reg2 = sm.OLS.from_formula('total_suicide ~ per_capita + per_capita_2', data=gdp_cn).fit()\n",
        "print(reg2.summary())"
      ],
      "execution_count": null,
      "outputs": [
        {
          "output_type": "stream",
          "text": [
            "                            OLS Regression Results                            \n",
            "==============================================================================\n",
            "Dep. Variable:          total_suicide   R-squared:                       0.763\n",
            "Model:                            OLS   Adj. R-squared:                  0.743\n",
            "Method:                 Least Squares   F-statistic:                     38.67\n",
            "Date:                Sat, 28 Nov 2020   Prob (F-statistic):           3.11e-08\n",
            "Time:                        14:09:56   Log-Likelihood:                -270.26\n",
            "No. Observations:                  27   AIC:                             546.5\n",
            "Df Residuals:                      24   BIC:                             550.4\n",
            "Df Model:                           2                                         \n",
            "Covariance Type:            nonrobust                                         \n",
            "================================================================================\n",
            "                   coef    std err          t      P>|t|      [0.025      0.975]\n",
            "--------------------------------------------------------------------------------\n",
            "Intercept      6.31e+04   3399.404     18.563      0.000    5.61e+04    7.01e+04\n",
            "per_capita      -4.1050      1.088     -3.772      0.001      -6.351      -1.859\n",
            "per_capita_2     0.0001   6.06e-05      2.079      0.049    8.96e-07       0.000\n",
            "==============================================================================\n",
            "Omnibus:                        2.393   Durbin-Watson:                   0.387\n",
            "Prob(Omnibus):                  0.302   Jarque-Bera (JB):                1.864\n",
            "Skew:                          -0.636   Prob(JB):                        0.394\n",
            "Kurtosis:                       2.797   Cond. No.                     3.45e+08\n",
            "==============================================================================\n",
            "\n",
            "Warnings:\n",
            "[1] Standard Errors assume that the covariance matrix of the errors is correctly specified.\n",
            "[2] The condition number is large, 3.45e+08. This might indicate that there are\n",
            "strong multicollinearity or other numerical problems.\n"
          ],
          "name": "stdout"
        },
        {
          "output_type": "stream",
          "text": [
            "C:\\Users\\JLN\\Anaconda3\\lib\\site-packages\\ipykernel_launcher.py:2: SettingWithCopyWarning:\n",
            "\n",
            "\n",
            "A value is trying to be set on a copy of a slice from a DataFrame.\n",
            "Try using .loc[row_indexer,col_indexer] = value instead\n",
            "\n",
            "See the caveats in the documentation: http://pandas.pydata.org/pandas-docs/stable/user_guide/indexing.html#returning-a-view-versus-a-copy\n",
            "\n"
          ],
          "name": "stderr"
        }
      ]
    },
    {
      "cell_type": "markdown",
      "metadata": {
        "id": "_h1lMy3f8HWT"
      },
      "source": [
        "Ahora que ya tenemos los coeficientes del modelo y el valor p así que los guardamos en unas variables, para poder hacer las pruebas pertinentes. "
      ]
    },
    {
      "cell_type": "code",
      "metadata": {
        "id": "Zhcq16s88HWT",
        "outputId": "55f98f3f-e2b3-4d47-dd1b-65ef0ef5eeda"
      },
      "source": [
        "beta_0 = reg2.params[0]\n",
        "beta_1 = reg2.params[1]\n",
        "beta_2 = reg2.params[2]\n",
        "array_x2 = np.array(gdp_cn['per_capita_2'])\n",
        "array_x =np.array(gdp_cn['per_capita'])\n",
        "\n",
        "print(beta_0, beta_1, beta_2)\n",
        "valor_p = reg2.f_pvalue"
      ],
      "execution_count": null,
      "outputs": [
        {
          "output_type": "stream",
          "text": [
            "63103.67691536825 -4.1050345696689 0.00012597967185642287\n"
          ],
          "name": "stdout"
        }
      ]
    },
    {
      "cell_type": "markdown",
      "metadata": {
        "id": "2Hl6imXi8HWU"
      },
      "source": [
        "**Prueba de utilidad del modelo** <br>\n",
        "Utilizamos un nivel de significancia del 5% ($\\alpha=0.05$) y nuestras hipótesis son:\n",
        "\n",
        "Hipótesis nula: $H_0: \\beta_{1}=\\beta_{2}=0$ <br>\n",
        "Hipótesis alternativa: $H_{a}$: al menos $\\beta_{i} \\ne 0 \\hspace{1mm} (i=1,2)$ <br>"
      ]
    },
    {
      "cell_type": "code",
      "metadata": {
        "id": "y-Stelqb8HWU",
        "outputId": "c053837e-e71c-4cd6-b3ff-8df8a66be850"
      },
      "source": [
        "alfa = 0.05\n",
        "valor_p <= alfa"
      ],
      "execution_count": null,
      "outputs": [
        {
          "output_type": "execute_result",
          "data": {
            "text/plain": [
              "True"
            ]
          },
          "metadata": {
            "tags": []
          },
          "execution_count": 37
        }
      ]
    },
    {
      "cell_type": "markdown",
      "metadata": {
        "id": "i2Q4P8fC8HWU"
      },
      "source": [
        "Como $ 3.113e^-.08 \\leq 0.05 $\n",
        "\n",
        "$\\therefore$ _Se rechaza_ $H_0$, y se llega a la conclusión de que existe una relación cuadrática útil entre el número de suicidos y el PIB per cápita."
      ]
    },
    {
      "cell_type": "markdown",
      "metadata": {
        "id": "pdcqGUX38HWU"
      },
      "source": [
        "Ahora imprimimos el valor de nuestro coeficiente de determinación ($R_a^2$)"
      ]
    },
    {
      "cell_type": "code",
      "metadata": {
        "id": "MpcxGgQC8HWU",
        "outputId": "0b95e16e-4564-4b81-9400-19dfb037610c"
      },
      "source": [
        "print(reg2.rsquared_adj)"
      ],
      "execution_count": null,
      "outputs": [
        {
          "output_type": "stream",
          "text": [
            "0.7434324528550948\n"
          ],
          "name": "stdout"
        }
      ]
    },
    {
      "cell_type": "markdown",
      "metadata": {
        "id": "jCjTmALu8HWV"
      },
      "source": [
        "$$R_a^2=74.34%$$ <br>\n",
        "Así que consideramos que nuestro modelo **sí** se ajusta ya que quiere decir que **74.34%** de la variación observada es explicada por la regresión."
      ]
    },
    {
      "cell_type": "markdown",
      "metadata": {
        "id": "mh2zhPB68HWV"
      },
      "source": [
        "Le asignamos el valor de $y$ a el número de suicidios y a $x$ el valor del pib per cápita, así que la ecuación de nuestro modelo es:\n",
        "\n",
        "$$\\hat {y} =  63103.6769 + -4.1050x + 0.0001x^2$$ \n",
        "Por último gráficamos nuestro modelo, "
      ]
    },
    {
      "cell_type": "code",
      "metadata": {
        "id": "ukK-e3il8HWV",
        "outputId": "64a8f52b-9595-469f-9efc-b4a8cf435eb7"
      },
      "source": [
        "plt.scatter(x=gdp_cn['per_capita'], y=gdp_cn['total_suicide'],  marker='o', c='gray', s=25)\n",
        "sns.set_color_codes('colorblind')\n",
        "sns.lineplot(array_x, beta_0 + beta_1 * array_x + beta_2*array_x2,color = \"r\")\n",
        "plt.title(\"Gráfica 3: Total de suicidios de Rusia - PIB per cápita (1985 - 2015)\", size=13)\n",
        "plt.xlabel(\"PIB Per cápita\")\n",
        "plt.ylabel(\"Total de suicidios\")\n",
        "plt.show()"
      ],
      "execution_count": null,
      "outputs": [
        {
          "output_type": "display_data",
          "data": {
            "image/png": "[encoded data removed]",
            "text/plain": [
              "<Figure size 432x288 with 1 Axes>"
            ]
          },
          "metadata": {
            "tags": []
          }
        }
      ]
    },
    {
      "cell_type": "markdown",
      "metadata": {
        "id": "t8KcS0Nv8HWV"
      },
      "source": [
        "Como podemos ver en la gráfica nuestro modelo sí tiene buen ajuste."
      ]
    },
    {
      "cell_type": "markdown",
      "metadata": {
        "id": "4OnZmeczUAqT"
      },
      "source": [
        "$$Segundo \\space Objetivo$$\n",
        "Por último, buscamos probar si los recursos económicos con los que cuenta el país influyen en el número de suicidios. "
      ]
    },
    {
      "cell_type": "markdown",
      "metadata": {
        "id": "ZiwDKd9GUApe"
      },
      "source": [
        "Dado que Rusia es el país con más suicidios decidimos buscar cual es el año en el cual hubo más suicidios en este país."
      ]
    },
    {
      "cell_type": "code",
      "metadata": {
        "id": "GYG4h4tiUAqG",
        "scrolled": false,
        "outputId": "72264f23-f04d-491f-97c0-24303a045b3f"
      },
      "source": [
        "S_year = pd.DataFrame(ds['suicides_no'].groupby([ds['country'],ds['year']]).sum())\n",
        "S_year = S_year.reset_index().sort_index(by='suicides_no',ascending=False)\n",
        "yr = S_year\n",
        "fig = plt.figure(figsize=(30,10))\n",
        "plt.title('Gráfica 4: Distribución de suicidios por año en Rusia',size = 50)\n",
        "\n",
        "sns.set(font_scale=2)\n",
        "sns.barplot(y='suicides_no',x='year',data=yr[yr['country']=='Russian Federation'],palette='pastel');\n",
        "plt.ylabel('Suicidios')\n",
        "plt.xlabel('Año')\n",
        "plt.xticks(rotation=45)\n",
        "plt.tight_layout()"
      ],
      "execution_count": null,
      "outputs": [
        {
          "output_type": "stream",
          "text": [
            "C:\\Users\\JLN\\Anaconda3\\lib\\site-packages\\ipykernel_launcher.py:2: FutureWarning:\n",
            "\n",
            "by argument to sort_index is deprecated, please use .sort_values(by=...)\n",
            "\n"
          ],
          "name": "stderr"
        },
        {
          "output_type": "display_data",
          "data": {
            "image/png": "[encoded data removed]",
            "text/plain": [
              "<Figure size 2160x720 with 1 Axes>"
            ]
          },
          "metadata": {
            "tags": []
          }
        }
      ]
    },
    {
      "cell_type": "markdown",
      "metadata": {
        "id": "9B0y91FcUAps"
      },
      "source": [
        "Como podemos observar el año que tuvo más porcentaje de suicidios fue 1994.\n",
        "\n",
        "Esto nos ayudará para poder investigar desde un punto más especifico el contexto que se vivió en ese año para determinar si existieron algunas situaciones que detonaran este incremento. Esto con el fin, de poder tener una conclusión."
      ]
    }
  ]
}